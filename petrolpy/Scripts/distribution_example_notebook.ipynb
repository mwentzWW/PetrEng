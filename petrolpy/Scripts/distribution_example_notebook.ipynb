{
 "cells": [
  {
   "cell_type": "code",
   "execution_count": null,
   "metadata": {},
   "outputs": [],
   "source": [
    "import math\n",
    "\n",
    "import numpy as np\n",
    "import pandas as pd\n",
    "import scipy.special\n",
    "from bokeh.layouts import gridplot\n",
    "from bokeh.io import show, output_notebook, output_file\n",
    "from bokeh.plotting import figure\n",
    "from bokeh.models import BoxAnnotation, HoverTool\n",
    "from scipy.stats import lognorm"
   ]
  },
  {
   "cell_type": "code",
   "execution_count": null,
   "metadata": {},
   "outputs": [],
   "source": [
    "# Bokeh output to notebook setting\n",
    "output_notebook()\n",
    "output_file(\"distribution_plot_example.html\")"
   ]
  },
  {
   "cell_type": "code",
   "execution_count": null,
   "metadata": {},
   "outputs": [],
   "source": [
    "# Find P10, P50, and P90\n",
    "def find_nearest(array, value):\n",
    "    array = np.asarray(array)\n",
    "    idx = (np.abs(array - value)).argmin()\n",
    "    return (array[idx], idx)\n",
    "\n",
    "def make_plot_cdf(title, hist, edges, x, pdf, cdf, x_label):\n",
    "    p = figure(title=title, background_fill_color=\"#fafafa\")\n",
    "    p.quad(top=hist, bottom=0, left=edges[:-1], right=edges[1:],\n",
    "           fill_color=\"navy\", line_color=\"white\", alpha=0.5)\n",
    "    p.line(x, cdf, line_color=\"orange\", line_width=2, alpha=0.7, legend=\"CDF\")\n",
    "\n",
    "    p.y_range.start = 0\n",
    "    p.legend.location = \"center_right\"\n",
    "    p.legend.background_fill_color = \"#fefefe\"\n",
    "    p.xaxis.axis_label = x_label\n",
    "    p.yaxis.axis_label = 'Pr(x)'\n",
    "    p.grid.grid_line_color=\"white\"\n",
    "    p.left[0].formatter.use_scientific = False\n",
    "    return p\n",
    "\n",
    "def make_plot_pdf(title, hist, edges, x, pdf, x_label):\n",
    "    p = figure(background_fill_color=\"#fafafa\")\n",
    "    p.quad(top=hist, bottom=0, left=edges[:-1], right=edges[1:],\n",
    "           fill_color=\"navy\", line_color=\"white\", alpha=0.5)\n",
    "    p.line(x, pdf, line_color=\"black\", line_width=4, alpha=0.8, legend=\"PDF\",\n",
    "    hover_alpha=0.4, hover_line_color=\"black\")\n",
    "\n",
    "    # calculate P90, P50, P10\n",
    "    p10_param = find_nearest(cdf, 0.9)\n",
    "    p10 = round(x[p10_param[1]])\n",
    "    p50_param = find_nearest(cdf, 0.5)\n",
    "    p50 = round(x[p50_param[1]])\n",
    "    p90_param = find_nearest(cdf, 0.1)\n",
    "    p90 = round(x[p90_param[1]])\n",
    "    \n",
    "    p.line((p90, p90), [0, np.max(pdf)], line_color='darkred', line_width=3, legend=\"P90\")\n",
    "    p.line((p50, p50), [0, np.max(pdf)], line_color='blue', line_width=3, legend=\"P50\")\n",
    "    p.line((p10, p10), [0, np.max(pdf)], line_color='red', line_width=3, legend=\"P10\")\n",
    "    \n",
    "\n",
    "    lower = BoxAnnotation(left=p90, right=p50, fill_alpha=0.1, fill_color='darkred')\n",
    "    middle = BoxAnnotation(left=p50, right=p10, fill_alpha=0.1, fill_color='blue')\n",
    "    upper = BoxAnnotation(left=p10, right=x[-1], fill_alpha=0.1, fill_color='darkred')\n",
    "\n",
    "    p.add_layout(lower)\n",
    "    p.add_layout(middle)\n",
    "    p.add_layout(upper)\n",
    "    p.add_tools(HoverTool(mode = 'mouse'))\n",
    "    p.y_range.start = 0\n",
    "    p.legend.location = \"center_right\"\n",
    "    p.legend.background_fill_color = \"#fefefe\"\n",
    "    p.xaxis.axis_label = x_label\n",
    "    p.yaxis.axis_label = 'Pr(x)'\n",
    "    p.grid.grid_line_color=\"white\"\n",
    "    p.left[0].formatter.use_scientific = False\n",
    "    p.title.text = title + \" & (P90: {}, P50: {}, P10: {})\".format(int(p90), int(p50), int(p10))\n",
    "    p.title.align = 'center'\n",
    "\n",
    "    return p"
   ]
  },
  {
   "cell_type": "code",
   "execution_count": null,
   "metadata": {},
   "outputs": [],
   "source": [
    "data = pd.read_csv(\"https://raw.githubusercontent.com/mwentzWW/petrolpy/master/petrolpy/Test_Data/EUR_Data.csv\")"
   ]
  },
  {
   "cell_type": "code",
   "execution_count": null,
   "metadata": {},
   "outputs": [],
   "source": [
    "data\n",
    "input_data = data[\"CUM_MBO\"]"
   ]
  },
  {
   "cell_type": "code",
   "execution_count": null,
   "metadata": {},
   "outputs": [],
   "source": [
    "# lognorm.fit returns (shape, floc, scale)\n",
    "# shape is sigma or the standard deviation, scale = exp(mean)\n",
    "sigma, floc, scale  = lognorm.fit(input_data, floc=0)\n",
    "mu = math.log(scale)"
   ]
  },
  {
   "cell_type": "code",
   "execution_count": null,
   "metadata": {},
   "outputs": [],
   "source": [
    "hist, edges = np.histogram(input_data, density=True, bins='auto')\n",
    "\n",
    "x = np.linspace(0.001, np.max(input_data) + np.mean(input_data), 1000)\n",
    "pdf = 1/(x* sigma * np.sqrt(2*np.pi)) * np.exp(-(np.log(x)-mu)**2 / (2*sigma**2))\n",
    "cdf = (1+scipy.special.erf((np.log(x)-mu)/(np.sqrt(2)*sigma)))/2"
   ]
  },
  {
   "cell_type": "code",
   "execution_count": null,
   "metadata": {},
   "outputs": [],
   "source": [
    "plot_cdf = make_plot_cdf(\"Log Normal Distribution (μ={}, σ={})\".format(round(scale, 2),round(sigma, 2)), hist, edges, x, pdf, cdf, 'Cum MBO')\n",
    "plot_pdf = make_plot_pdf(\"Log Normal Distribution (μ={}, σ={})\".format(round(scale, 2),round(sigma, 2)), hist, edges, x, pdf, 'Cum MBO')"
   ]
  },
  {
   "cell_type": "code",
   "execution_count": null,
   "metadata": {},
   "outputs": [],
   "source": [
    "show(plot_cdf)"
   ]
  },
  {
   "cell_type": "code",
   "execution_count": null,
   "metadata": {},
   "outputs": [],
   "source": [
    "show(plot_pdf)"
   ]
  },
  {
   "cell_type": "code",
   "execution_count": null,
   "metadata": {},
   "outputs": [],
   "source": [
    "# P50 value\n",
    "p50_param = find_nearest(cdf, 0.5)\n",
    "p50_value = round(x[p50_param[1]])\n",
    "p50_value"
   ]
  },
  {
   "cell_type": "code",
   "execution_count": null,
   "metadata": {},
   "outputs": [],
   "source": [
    "# P10 value, only 10% of values will have this value or more\n",
    "p10_param = find_nearest(cdf, 0.9)\n",
    "p10_value = round(x[p10_param[1]])\n",
    "p10_value"
   ]
  },
  {
   "cell_type": "code",
   "execution_count": null,
   "metadata": {},
   "outputs": [],
   "source": [
    "# P90 value, 90% of values will have this value or more\n",
    "p90_param = find_nearest(cdf, 0.1)\n",
    "p90_value = round(x[p90_param[1]])\n",
    "p90_value\n"
   ]
  }
 ],
 "metadata": {
  "file_extension": ".py",
  "kernelspec": {
   "display_name": "Python 3",
   "language": "python",
   "name": "python3"
  },
  "language_info": {
   "codemirror_mode": {
    "name": "ipython",
    "version": 3
   },
   "file_extension": ".py",
   "mimetype": "text/x-python",
   "name": "python",
   "nbconvert_exporter": "python",
   "pygments_lexer": "ipython3",
   "version": "3.7.1"
  },
  "mimetype": "text/x-python",
  "name": "python",
  "npconvert_exporter": "python",
  "pygments_lexer": "ipython3",
  "version": 3
 },
 "nbformat": 4,
 "nbformat_minor": 2
}
