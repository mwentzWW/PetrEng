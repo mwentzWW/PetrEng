{
 "cells": [
  {
   "cell_type": "code",
   "execution_count": 1,
   "metadata": {},
   "outputs": [],
   "source": [
    "import math\n",
    "\n",
    "import numpy as np\n",
    "import pandas as pd\n",
    "import scipy.special\n",
    "from bokeh.layouts import gridplot\n",
    "from bokeh.io import show, output_notebook\n",
    "from bokeh.plotting import figure\n",
    "from bokeh.models import BoxAnnotation, HoverTool\n",
    "from scipy.stats import lognorm"
   ]
  },
  {
   "cell_type": "code",
   "execution_count": 3,
   "metadata": {},
   "outputs": [
    {
     "data": {
      "text/html": [
       "\n",
       "    <div class=\"bk-root\">\n",
       "        <a href=\"https://bokeh.pydata.org\" target=\"_blank\" class=\"bk-logo bk-logo-small bk-logo-notebook\"></a>\n",
       "        <span id=\"1001\">Loading BokehJS ...</span>\n",
       "    </div>"
      ]
     },
     "metadata": {},
     "output_type": "display_data"
    },
    {
     "data": {
      "application/javascript": [
       "\n",
       "(function(root) {\n",
       "  function now() {\n",
       "    return new Date();\n",
       "  }\n",
       "\n",
       "  var force = true;\n",
       "\n",
       "  if (typeof (root._bokeh_onload_callbacks) === \"undefined\" || force === true) {\n",
       "    root._bokeh_onload_callbacks = [];\n",
       "    root._bokeh_is_loading = undefined;\n",
       "  }\n",
       "\n",
       "  var JS_MIME_TYPE = 'application/javascript';\n",
       "  var HTML_MIME_TYPE = 'text/html';\n",
       "  var EXEC_MIME_TYPE = 'application/vnd.bokehjs_exec.v0+json';\n",
       "  var CLASS_NAME = 'output_bokeh rendered_html';\n",
       "\n",
       "  /**\n",
       "   * Render data to the DOM node\n",
       "   */\n",
       "  function render(props, node) {\n",
       "    var script = document.createElement(\"script\");\n",
       "    node.appendChild(script);\n",
       "  }\n",
       "\n",
       "  /**\n",
       "   * Handle when an output is cleared or removed\n",
       "   */\n",
       "  function handleClearOutput(event, handle) {\n",
       "    var cell = handle.cell;\n",
       "\n",
       "    var id = cell.output_area._bokeh_element_id;\n",
       "    var server_id = cell.output_area._bokeh_server_id;\n",
       "    // Clean up Bokeh references\n",
       "    if (id != null && id in Bokeh.index) {\n",
       "      Bokeh.index[id].model.document.clear();\n",
       "      delete Bokeh.index[id];\n",
       "    }\n",
       "\n",
       "    if (server_id !== undefined) {\n",
       "      // Clean up Bokeh references\n",
       "      var cmd = \"from bokeh.io.state import curstate; print(curstate().uuid_to_server['\" + server_id + \"'].get_sessions()[0].document.roots[0]._id)\";\n",
       "      cell.notebook.kernel.execute(cmd, {\n",
       "        iopub: {\n",
       "          output: function(msg) {\n",
       "            var id = msg.content.text.trim();\n",
       "            if (id in Bokeh.index) {\n",
       "              Bokeh.index[id].model.document.clear();\n",
       "              delete Bokeh.index[id];\n",
       "            }\n",
       "          }\n",
       "        }\n",
       "      });\n",
       "      // Destroy server and session\n",
       "      var cmd = \"import bokeh.io.notebook as ion; ion.destroy_server('\" + server_id + \"')\";\n",
       "      cell.notebook.kernel.execute(cmd);\n",
       "    }\n",
       "  }\n",
       "\n",
       "  /**\n",
       "   * Handle when a new output is added\n",
       "   */\n",
       "  function handleAddOutput(event, handle) {\n",
       "    var output_area = handle.output_area;\n",
       "    var output = handle.output;\n",
       "\n",
       "    // limit handleAddOutput to display_data with EXEC_MIME_TYPE content only\n",
       "    if ((output.output_type != \"display_data\") || (!output.data.hasOwnProperty(EXEC_MIME_TYPE))) {\n",
       "      return\n",
       "    }\n",
       "\n",
       "    var toinsert = output_area.element.find(\".\" + CLASS_NAME.split(' ')[0]);\n",
       "\n",
       "    if (output.metadata[EXEC_MIME_TYPE][\"id\"] !== undefined) {\n",
       "      toinsert[toinsert.length - 1].firstChild.textContent = output.data[JS_MIME_TYPE];\n",
       "      // store reference to embed id on output_area\n",
       "      output_area._bokeh_element_id = output.metadata[EXEC_MIME_TYPE][\"id\"];\n",
       "    }\n",
       "    if (output.metadata[EXEC_MIME_TYPE][\"server_id\"] !== undefined) {\n",
       "      var bk_div = document.createElement(\"div\");\n",
       "      bk_div.innerHTML = output.data[HTML_MIME_TYPE];\n",
       "      var script_attrs = bk_div.children[0].attributes;\n",
       "      for (var i = 0; i < script_attrs.length; i++) {\n",
       "        toinsert[toinsert.length - 1].firstChild.setAttribute(script_attrs[i].name, script_attrs[i].value);\n",
       "      }\n",
       "      // store reference to server id on output_area\n",
       "      output_area._bokeh_server_id = output.metadata[EXEC_MIME_TYPE][\"server_id\"];\n",
       "    }\n",
       "  }\n",
       "\n",
       "  function register_renderer(events, OutputArea) {\n",
       "\n",
       "    function append_mime(data, metadata, element) {\n",
       "      // create a DOM node to render to\n",
       "      var toinsert = this.create_output_subarea(\n",
       "        metadata,\n",
       "        CLASS_NAME,\n",
       "        EXEC_MIME_TYPE\n",
       "      );\n",
       "      this.keyboard_manager.register_events(toinsert);\n",
       "      // Render to node\n",
       "      var props = {data: data, metadata: metadata[EXEC_MIME_TYPE]};\n",
       "      render(props, toinsert[toinsert.length - 1]);\n",
       "      element.append(toinsert);\n",
       "      return toinsert\n",
       "    }\n",
       "\n",
       "    /* Handle when an output is cleared or removed */\n",
       "    events.on('clear_output.CodeCell', handleClearOutput);\n",
       "    events.on('delete.Cell', handleClearOutput);\n",
       "\n",
       "    /* Handle when a new output is added */\n",
       "    events.on('output_added.OutputArea', handleAddOutput);\n",
       "\n",
       "    /**\n",
       "     * Register the mime type and append_mime function with output_area\n",
       "     */\n",
       "    OutputArea.prototype.register_mime_type(EXEC_MIME_TYPE, append_mime, {\n",
       "      /* Is output safe? */\n",
       "      safe: true,\n",
       "      /* Index of renderer in `output_area.display_order` */\n",
       "      index: 0\n",
       "    });\n",
       "  }\n",
       "\n",
       "  // register the mime type if in Jupyter Notebook environment and previously unregistered\n",
       "  if (root.Jupyter !== undefined) {\n",
       "    var events = require('base/js/events');\n",
       "    var OutputArea = require('notebook/js/outputarea').OutputArea;\n",
       "\n",
       "    if (OutputArea.prototype.mime_types().indexOf(EXEC_MIME_TYPE) == -1) {\n",
       "      register_renderer(events, OutputArea);\n",
       "    }\n",
       "  }\n",
       "\n",
       "  \n",
       "  if (typeof (root._bokeh_timeout) === \"undefined\" || force === true) {\n",
       "    root._bokeh_timeout = Date.now() + 5000;\n",
       "    root._bokeh_failed_load = false;\n",
       "  }\n",
       "\n",
       "  var NB_LOAD_WARNING = {'data': {'text/html':\n",
       "     \"<div style='background-color: #fdd'>\\n\"+\n",
       "     \"<p>\\n\"+\n",
       "     \"BokehJS does not appear to have successfully loaded. If loading BokehJS from CDN, this \\n\"+\n",
       "     \"may be due to a slow or bad network connection. Possible fixes:\\n\"+\n",
       "     \"</p>\\n\"+\n",
       "     \"<ul>\\n\"+\n",
       "     \"<li>re-rerun `output_notebook()` to attempt to load from CDN again, or</li>\\n\"+\n",
       "     \"<li>use INLINE resources instead, as so:</li>\\n\"+\n",
       "     \"</ul>\\n\"+\n",
       "     \"<code>\\n\"+\n",
       "     \"from bokeh.resources import INLINE\\n\"+\n",
       "     \"output_notebook(resources=INLINE)\\n\"+\n",
       "     \"</code>\\n\"+\n",
       "     \"</div>\"}};\n",
       "\n",
       "  function display_loaded() {\n",
       "    var el = document.getElementById(\"1001\");\n",
       "    if (el != null) {\n",
       "      el.textContent = \"BokehJS is loading...\";\n",
       "    }\n",
       "    if (root.Bokeh !== undefined) {\n",
       "      if (el != null) {\n",
       "        el.textContent = \"BokehJS \" + root.Bokeh.version + \" successfully loaded.\";\n",
       "      }\n",
       "    } else if (Date.now() < root._bokeh_timeout) {\n",
       "      setTimeout(display_loaded, 100)\n",
       "    }\n",
       "  }\n",
       "\n",
       "\n",
       "  function run_callbacks() {\n",
       "    try {\n",
       "      root._bokeh_onload_callbacks.forEach(function(callback) { callback() });\n",
       "    }\n",
       "    finally {\n",
       "      delete root._bokeh_onload_callbacks\n",
       "    }\n",
       "    console.info(\"Bokeh: all callbacks have finished\");\n",
       "  }\n",
       "\n",
       "  function load_libs(js_urls, callback) {\n",
       "    root._bokeh_onload_callbacks.push(callback);\n",
       "    if (root._bokeh_is_loading > 0) {\n",
       "      console.log(\"Bokeh: BokehJS is being loaded, scheduling callback at\", now());\n",
       "      return null;\n",
       "    }\n",
       "    if (js_urls == null || js_urls.length === 0) {\n",
       "      run_callbacks();\n",
       "      return null;\n",
       "    }\n",
       "    console.log(\"Bokeh: BokehJS not loaded, scheduling load and callback at\", now());\n",
       "    root._bokeh_is_loading = js_urls.length;\n",
       "    for (var i = 0; i < js_urls.length; i++) {\n",
       "      var url = js_urls[i];\n",
       "      var s = document.createElement('script');\n",
       "      s.src = url;\n",
       "      s.async = false;\n",
       "      s.onreadystatechange = s.onload = function() {\n",
       "        root._bokeh_is_loading--;\n",
       "        if (root._bokeh_is_loading === 0) {\n",
       "          console.log(\"Bokeh: all BokehJS libraries loaded\");\n",
       "          run_callbacks()\n",
       "        }\n",
       "      };\n",
       "      s.onerror = function() {\n",
       "        console.warn(\"failed to load library \" + url);\n",
       "      };\n",
       "      console.log(\"Bokeh: injecting script tag for BokehJS library: \", url);\n",
       "      document.getElementsByTagName(\"head\")[0].appendChild(s);\n",
       "    }\n",
       "  };var element = document.getElementById(\"1001\");\n",
       "  if (element == null) {\n",
       "    console.log(\"Bokeh: ERROR: autoload.js configured with elementid '1001' but no matching script tag was found. \")\n",
       "    return false;\n",
       "  }\n",
       "\n",
       "  var js_urls = [\"https://cdn.pydata.org/bokeh/release/bokeh-1.0.4.min.js\", \"https://cdn.pydata.org/bokeh/release/bokeh-widgets-1.0.4.min.js\", \"https://cdn.pydata.org/bokeh/release/bokeh-tables-1.0.4.min.js\", \"https://cdn.pydata.org/bokeh/release/bokeh-gl-1.0.4.min.js\"];\n",
       "\n",
       "  var inline_js = [\n",
       "    function(Bokeh) {\n",
       "      Bokeh.set_log_level(\"info\");\n",
       "    },\n",
       "    \n",
       "    function(Bokeh) {\n",
       "      \n",
       "    },\n",
       "    function(Bokeh) {\n",
       "      console.log(\"Bokeh: injecting CSS: https://cdn.pydata.org/bokeh/release/bokeh-1.0.4.min.css\");\n",
       "      Bokeh.embed.inject_css(\"https://cdn.pydata.org/bokeh/release/bokeh-1.0.4.min.css\");\n",
       "      console.log(\"Bokeh: injecting CSS: https://cdn.pydata.org/bokeh/release/bokeh-widgets-1.0.4.min.css\");\n",
       "      Bokeh.embed.inject_css(\"https://cdn.pydata.org/bokeh/release/bokeh-widgets-1.0.4.min.css\");\n",
       "      console.log(\"Bokeh: injecting CSS: https://cdn.pydata.org/bokeh/release/bokeh-tables-1.0.4.min.css\");\n",
       "      Bokeh.embed.inject_css(\"https://cdn.pydata.org/bokeh/release/bokeh-tables-1.0.4.min.css\");\n",
       "    }\n",
       "  ];\n",
       "\n",
       "  function run_inline_js() {\n",
       "    \n",
       "    if ((root.Bokeh !== undefined) || (force === true)) {\n",
       "      for (var i = 0; i < inline_js.length; i++) {\n",
       "        inline_js[i].call(root, root.Bokeh);\n",
       "      }if (force === true) {\n",
       "        display_loaded();\n",
       "      }} else if (Date.now() < root._bokeh_timeout) {\n",
       "      setTimeout(run_inline_js, 100);\n",
       "    } else if (!root._bokeh_failed_load) {\n",
       "      console.log(\"Bokeh: BokehJS failed to load within specified timeout.\");\n",
       "      root._bokeh_failed_load = true;\n",
       "    } else if (force !== true) {\n",
       "      var cell = $(document.getElementById(\"1001\")).parents('.cell').data().cell;\n",
       "      cell.output_area.append_execute_result(NB_LOAD_WARNING)\n",
       "    }\n",
       "\n",
       "  }\n",
       "\n",
       "  if (root._bokeh_is_loading === 0) {\n",
       "    console.log(\"Bokeh: BokehJS loaded, going straight to plotting\");\n",
       "    run_inline_js();\n",
       "  } else {\n",
       "    load_libs(js_urls, function() {\n",
       "      console.log(\"Bokeh: BokehJS plotting callback run at\", now());\n",
       "      run_inline_js();\n",
       "    });\n",
       "  }\n",
       "}(window));"
      ],
      "application/vnd.bokehjs_load.v0+json": "\n(function(root) {\n  function now() {\n    return new Date();\n  }\n\n  var force = true;\n\n  if (typeof (root._bokeh_onload_callbacks) === \"undefined\" || force === true) {\n    root._bokeh_onload_callbacks = [];\n    root._bokeh_is_loading = undefined;\n  }\n\n  \n\n  \n  if (typeof (root._bokeh_timeout) === \"undefined\" || force === true) {\n    root._bokeh_timeout = Date.now() + 5000;\n    root._bokeh_failed_load = false;\n  }\n\n  var NB_LOAD_WARNING = {'data': {'text/html':\n     \"<div style='background-color: #fdd'>\\n\"+\n     \"<p>\\n\"+\n     \"BokehJS does not appear to have successfully loaded. If loading BokehJS from CDN, this \\n\"+\n     \"may be due to a slow or bad network connection. Possible fixes:\\n\"+\n     \"</p>\\n\"+\n     \"<ul>\\n\"+\n     \"<li>re-rerun `output_notebook()` to attempt to load from CDN again, or</li>\\n\"+\n     \"<li>use INLINE resources instead, as so:</li>\\n\"+\n     \"</ul>\\n\"+\n     \"<code>\\n\"+\n     \"from bokeh.resources import INLINE\\n\"+\n     \"output_notebook(resources=INLINE)\\n\"+\n     \"</code>\\n\"+\n     \"</div>\"}};\n\n  function display_loaded() {\n    var el = document.getElementById(\"1001\");\n    if (el != null) {\n      el.textContent = \"BokehJS is loading...\";\n    }\n    if (root.Bokeh !== undefined) {\n      if (el != null) {\n        el.textContent = \"BokehJS \" + root.Bokeh.version + \" successfully loaded.\";\n      }\n    } else if (Date.now() < root._bokeh_timeout) {\n      setTimeout(display_loaded, 100)\n    }\n  }\n\n\n  function run_callbacks() {\n    try {\n      root._bokeh_onload_callbacks.forEach(function(callback) { callback() });\n    }\n    finally {\n      delete root._bokeh_onload_callbacks\n    }\n    console.info(\"Bokeh: all callbacks have finished\");\n  }\n\n  function load_libs(js_urls, callback) {\n    root._bokeh_onload_callbacks.push(callback);\n    if (root._bokeh_is_loading > 0) {\n      console.log(\"Bokeh: BokehJS is being loaded, scheduling callback at\", now());\n      return null;\n    }\n    if (js_urls == null || js_urls.length === 0) {\n      run_callbacks();\n      return null;\n    }\n    console.log(\"Bokeh: BokehJS not loaded, scheduling load and callback at\", now());\n    root._bokeh_is_loading = js_urls.length;\n    for (var i = 0; i < js_urls.length; i++) {\n      var url = js_urls[i];\n      var s = document.createElement('script');\n      s.src = url;\n      s.async = false;\n      s.onreadystatechange = s.onload = function() {\n        root._bokeh_is_loading--;\n        if (root._bokeh_is_loading === 0) {\n          console.log(\"Bokeh: all BokehJS libraries loaded\");\n          run_callbacks()\n        }\n      };\n      s.onerror = function() {\n        console.warn(\"failed to load library \" + url);\n      };\n      console.log(\"Bokeh: injecting script tag for BokehJS library: \", url);\n      document.getElementsByTagName(\"head\")[0].appendChild(s);\n    }\n  };var element = document.getElementById(\"1001\");\n  if (element == null) {\n    console.log(\"Bokeh: ERROR: autoload.js configured with elementid '1001' but no matching script tag was found. \")\n    return false;\n  }\n\n  var js_urls = [\"https://cdn.pydata.org/bokeh/release/bokeh-1.0.4.min.js\", \"https://cdn.pydata.org/bokeh/release/bokeh-widgets-1.0.4.min.js\", \"https://cdn.pydata.org/bokeh/release/bokeh-tables-1.0.4.min.js\", \"https://cdn.pydata.org/bokeh/release/bokeh-gl-1.0.4.min.js\"];\n\n  var inline_js = [\n    function(Bokeh) {\n      Bokeh.set_log_level(\"info\");\n    },\n    \n    function(Bokeh) {\n      \n    },\n    function(Bokeh) {\n      console.log(\"Bokeh: injecting CSS: https://cdn.pydata.org/bokeh/release/bokeh-1.0.4.min.css\");\n      Bokeh.embed.inject_css(\"https://cdn.pydata.org/bokeh/release/bokeh-1.0.4.min.css\");\n      console.log(\"Bokeh: injecting CSS: https://cdn.pydata.org/bokeh/release/bokeh-widgets-1.0.4.min.css\");\n      Bokeh.embed.inject_css(\"https://cdn.pydata.org/bokeh/release/bokeh-widgets-1.0.4.min.css\");\n      console.log(\"Bokeh: injecting CSS: https://cdn.pydata.org/bokeh/release/bokeh-tables-1.0.4.min.css\");\n      Bokeh.embed.inject_css(\"https://cdn.pydata.org/bokeh/release/bokeh-tables-1.0.4.min.css\");\n    }\n  ];\n\n  function run_inline_js() {\n    \n    if ((root.Bokeh !== undefined) || (force === true)) {\n      for (var i = 0; i < inline_js.length; i++) {\n        inline_js[i].call(root, root.Bokeh);\n      }if (force === true) {\n        display_loaded();\n      }} else if (Date.now() < root._bokeh_timeout) {\n      setTimeout(run_inline_js, 100);\n    } else if (!root._bokeh_failed_load) {\n      console.log(\"Bokeh: BokehJS failed to load within specified timeout.\");\n      root._bokeh_failed_load = true;\n    } else if (force !== true) {\n      var cell = $(document.getElementById(\"1001\")).parents('.cell').data().cell;\n      cell.output_area.append_execute_result(NB_LOAD_WARNING)\n    }\n\n  }\n\n  if (root._bokeh_is_loading === 0) {\n    console.log(\"Bokeh: BokehJS loaded, going straight to plotting\");\n    run_inline_js();\n  } else {\n    load_libs(js_urls, function() {\n      console.log(\"Bokeh: BokehJS plotting callback run at\", now());\n      run_inline_js();\n    });\n  }\n}(window));"
     },
     "metadata": {},
     "output_type": "display_data"
    }
   ],
   "source": [
    "# Bokeh output to notebook setting\n",
    "output_notebook()"
   ]
  },
  {
   "cell_type": "code",
   "execution_count": 4,
   "metadata": {},
   "outputs": [],
   "source": [
    "# Find P10, P50, and P90\n",
    "def find_nearest(array, value):\n",
    "    array = np.asarray(array)\n",
    "    idx = (np.abs(array - value)).argmin()\n",
    "    return (array[idx], idx)\n",
    "\n",
    "def make_plot_cdf(title, hist, edges, x, pdf, cdf, x_label):\n",
    "    p = figure(title=title, background_fill_color=\"#fafafa\")\n",
    "    p.quad(top=hist, bottom=0, left=edges[:-1], right=edges[1:],\n",
    "           fill_color=\"navy\", line_color=\"white\", alpha=0.5)\n",
    "    p.line(x, cdf, line_color=\"orange\", line_width=2, alpha=0.7, legend=\"CDF\")\n",
    "\n",
    "    p.y_range.start = 0\n",
    "    p.legend.location = \"center_right\"\n",
    "    p.legend.background_fill_color = \"#fefefe\"\n",
    "    p.xaxis.axis_label = x_label\n",
    "    p.yaxis.axis_label = 'Pr(x)'\n",
    "    p.grid.grid_line_color=\"white\"\n",
    "    p.left[0].formatter.use_scientific = False\n",
    "    return p\n",
    "\n",
    "def make_plot_pdf(title, hist, edges, x, pdf, x_label):\n",
    "    p = figure(background_fill_color=\"#fafafa\")\n",
    "    p.quad(top=hist, bottom=0, left=edges[:-1], right=edges[1:],\n",
    "           fill_color=\"navy\", line_color=\"white\", alpha=0.5)\n",
    "    p.line(x, pdf, line_color=\"black\", line_width=4, alpha=0.8, legend=\"PDF\",\n",
    "    hover_alpha=0.4, hover_line_color=\"black\")\n",
    "\n",
    "    # calculate P90, P50, P10\n",
    "    p10_param = find_nearest(cdf, 0.9)\n",
    "    p10 = round(x[p10_param[1]])\n",
    "    p50_param = find_nearest(cdf, 0.5)\n",
    "    p50 = round(x[p50_param[1]])\n",
    "    p90_param = find_nearest(cdf, 0.1)\n",
    "    p90 = round(x[p90_param[1]])\n",
    "    \n",
    "    p.line((p90, p90), [0, np.max(pdf)], line_color='darkred', line_width=3, legend=\"P90\")\n",
    "    p.line((p50, p50), [0, np.max(pdf)], line_color='blue', line_width=3, legend=\"P50\")\n",
    "    p.line((p10, p10), [0, np.max(pdf)], line_color='red', line_width=3, legend=\"P10\")\n",
    "    \n",
    "\n",
    "    lower = BoxAnnotation(left=p90, right=p50, fill_alpha=0.1, fill_color='darkred')\n",
    "    middle = BoxAnnotation(left=p50, right=p10, fill_alpha=0.1, fill_color='blue')\n",
    "    upper = BoxAnnotation(left=p10, right=x[-1], fill_alpha=0.1, fill_color='darkred')\n",
    "\n",
    "    p.add_layout(lower)\n",
    "    p.add_layout(middle)\n",
    "    p.add_layout(upper)\n",
    "    p.add_tools(HoverTool(mode = 'mouse'))\n",
    "    p.y_range.start = 0\n",
    "    p.legend.location = \"center_right\"\n",
    "    p.legend.background_fill_color = \"#fefefe\"\n",
    "    p.xaxis.axis_label = x_label\n",
    "    p.yaxis.axis_label = 'Pr(x)'\n",
    "    p.grid.grid_line_color=\"white\"\n",
    "    p.left[0].formatter.use_scientific = False\n",
    "    p.title.text = title + \" & (P90: {}, P50: {}, P10: {})\".format(int(p90), int(p50), int(p10))\n",
    "    p.title.align = 'center'\n",
    "\n",
    "    return p"
   ]
  },
  {
   "cell_type": "code",
   "execution_count": 5,
   "metadata": {},
   "outputs": [],
   "source": [
    "data = pd.read_csv(\"https://raw.githubusercontent.com/mwentzWW/petrolpy/master/petrolpy/Test_Data/EUR_Data.csv\")"
   ]
  },
  {
   "cell_type": "code",
   "execution_count": 6,
   "metadata": {},
   "outputs": [],
   "source": [
    "data\n",
    "input_data = data[\"CUM_MBO\"]"
   ]
  },
  {
   "cell_type": "code",
   "execution_count": 7,
   "metadata": {},
   "outputs": [],
   "source": [
    "# lognorm.fit returns (shape, floc, scale)\n",
    "# shape is sigma or the standard deviation, scale = exp(mean)\n",
    "sigma, floc, scale  = lognorm.fit(input_data, floc=0)\n",
    "mu = math.log(scale)"
   ]
  },
  {
   "cell_type": "code",
   "execution_count": 8,
   "metadata": {},
   "outputs": [],
   "source": [
    "hist, edges = np.histogram(input_data, density=True, bins='auto')\n",
    "\n",
    "x = np.linspace(0.001, np.max(input_data) + np.mean(input_data), 1000)\n",
    "pdf = 1/(x* sigma * np.sqrt(2*np.pi)) * np.exp(-(np.log(x)-mu)**2 / (2*sigma**2))\n",
    "cdf = (1+scipy.special.erf((np.log(x)-mu)/(np.sqrt(2)*sigma)))/2"
   ]
  },
  {
   "cell_type": "code",
   "execution_count": 9,
   "metadata": {},
   "outputs": [],
   "source": [
    "plot_cdf = make_plot_cdf(\"Log Normal Distribution (μ={}, σ={})\".format(round(scale, 2),round(sigma, 2)), hist, edges, x, pdf, cdf, 'Cum MBO')\n",
    "plot_pdf = make_plot_pdf(\"Log Normal Distribution (μ={}, σ={})\".format(round(scale, 2),round(sigma, 2)), hist, edges, x, pdf, 'Cum MBO')"
   ]
  },
  {
   "cell_type": "code",
   "execution_count": 10,
   "metadata": {},
   "outputs": [
    {
     "data": {
      "text/html": [
       "\n",
       "\n",
       "\n",
       "\n",
       "\n",
       "\n",
       "  <div class=\"bk-root\" id=\"3048f24e-3b71-4770-ba8e-585843c5263a\" data-root-id=\"1003\"></div>\n"
      ]
     },
     "metadata": {},
     "output_type": "display_data"
    },
    {
     "data": {
      "application/javascript": [
       "(function(root) {\n",
       "  function embed_document(root) {\n",
       "    \n",
       "  var docs_json = {\"221f1cb2-39a9-4fb3-9202-95a41f2bfb85\":{\"roots\":{\"references\":[{\"attributes\":{\"background_fill_color\":{\"value\":\"#fafafa\"},\"below\":[{\"id\":\"1013\",\"type\":\"LinearAxis\"}],\"left\":[{\"id\":\"1018\",\"type\":\"LinearAxis\"}],\"renderers\":[{\"id\":\"1013\",\"type\":\"LinearAxis\"},{\"id\":\"1017\",\"type\":\"Grid\"},{\"id\":\"1018\",\"type\":\"LinearAxis\"},{\"id\":\"1022\",\"type\":\"Grid\"},{\"id\":\"1031\",\"type\":\"BoxAnnotation\"},{\"id\":\"1041\",\"type\":\"GlyphRenderer\"},{\"id\":\"1056\",\"type\":\"Legend\"},{\"id\":\"1046\",\"type\":\"GlyphRenderer\"}],\"title\":{\"id\":\"1002\",\"type\":\"Title\"},\"toolbar\":{\"id\":\"1029\",\"type\":\"Toolbar\"},\"x_range\":{\"id\":\"1005\",\"type\":\"DataRange1d\"},\"x_scale\":{\"id\":\"1009\",\"type\":\"LinearScale\"},\"y_range\":{\"id\":\"1007\",\"type\":\"DataRange1d\"},\"y_scale\":{\"id\":\"1011\",\"type\":\"LinearScale\"}},\"id\":\"1003\",\"subtype\":\"Figure\",\"type\":\"Plot\"},{\"attributes\":{},\"id\":\"1188\",\"type\":\"Selection\"},{\"attributes\":{},\"id\":\"1049\",\"type\":\"BasicTickFormatter\"},{\"attributes\":{},\"id\":\"1026\",\"type\":\"SaveTool\"},{\"attributes\":{\"callback\":null},\"id\":\"1005\",\"type\":\"DataRange1d\"},{\"attributes\":{\"plot\":null,\"text\":\"Log Normal Distribution (\\u03bc=34.73, \\u03c3=1.38)\"},\"id\":\"1002\",\"type\":\"Title\"},{\"attributes\":{},\"id\":\"1027\",\"type\":\"ResetTool\"},{\"attributes\":{},\"id\":\"1028\",\"type\":\"HelpTool\"},{\"attributes\":{\"active_drag\":\"auto\",\"active_inspect\":\"auto\",\"active_multi\":null,\"active_scroll\":\"auto\",\"active_tap\":\"auto\",\"tools\":[{\"id\":\"1023\",\"type\":\"PanTool\"},{\"id\":\"1024\",\"type\":\"WheelZoomTool\"},{\"id\":\"1025\",\"type\":\"BoxZoomTool\"},{\"id\":\"1026\",\"type\":\"SaveTool\"},{\"id\":\"1027\",\"type\":\"ResetTool\"},{\"id\":\"1028\",\"type\":\"HelpTool\"}]},\"id\":\"1029\",\"type\":\"Toolbar\"},{\"attributes\":{\"source\":{\"id\":\"1038\",\"type\":\"ColumnDataSource\"}},\"id\":\"1042\",\"type\":\"CDSView\"},{\"attributes\":{\"bottom_units\":\"screen\",\"fill_alpha\":{\"value\":0.5},\"fill_color\":{\"value\":\"lightgrey\"},\"left_units\":\"screen\",\"level\":\"overlay\",\"line_alpha\":{\"value\":1.0},\"line_color\":{\"value\":\"black\"},\"line_dash\":[4,4],\"line_width\":{\"value\":2},\"plot\":null,\"render_mode\":\"css\",\"right_units\":\"screen\",\"top_units\":\"screen\"},\"id\":\"1031\",\"type\":\"BoxAnnotation\"},{\"attributes\":{\"data_source\":{\"id\":\"1038\",\"type\":\"ColumnDataSource\"},\"glyph\":{\"id\":\"1039\",\"type\":\"Quad\"},\"hover_glyph\":null,\"muted_glyph\":null,\"nonselection_glyph\":{\"id\":\"1040\",\"type\":\"Quad\"},\"selection_glyph\":null,\"view\":{\"id\":\"1042\",\"type\":\"CDSView\"}},\"id\":\"1041\",\"type\":\"GlyphRenderer\"},{\"attributes\":{\"bottom\":{\"value\":0},\"fill_alpha\":{\"value\":0.1},\"fill_color\":{\"value\":\"#1f77b4\"},\"left\":{\"field\":\"left\"},\"line_alpha\":{\"value\":0.1},\"line_color\":{\"value\":\"#1f77b4\"},\"right\":{\"field\":\"right\"},\"top\":{\"field\":\"top\"}},\"id\":\"1040\",\"type\":\"Quad\"},{\"attributes\":{\"callback\":null,\"data\":{\"x\":{\"__ndarray__\":\"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\",\"dtype\":\"float64\",\"shape\":[1000]},\"y\":{\"__ndarray__\":\"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\",\"dtype\":\"float64\",\"shape\":[1000]}},\"selected\":{\"id\":\"1188\",\"type\":\"Selection\"},\"selection_policy\":{\"id\":\"1189\",\"type\":\"UnionRenderers\"}},\"id\":\"1043\",\"type\":\"ColumnDataSource\"},{\"attributes\":{\"use_scientific\":false},\"id\":\"1051\",\"type\":\"BasicTickFormatter\"},{\"attributes\":{\"line_alpha\":0.7,\"line_color\":\"orange\",\"line_width\":2,\"x\":{\"field\":\"x\"},\"y\":{\"field\":\"y\"}},\"id\":\"1044\",\"type\":\"Line\"},{\"attributes\":{\"line_alpha\":0.1,\"line_color\":\"#1f77b4\",\"line_width\":2,\"x\":{\"field\":\"x\"},\"y\":{\"field\":\"y\"}},\"id\":\"1045\",\"type\":\"Line\"},{\"attributes\":{\"background_fill_color\":{\"value\":\"#fefefe\"},\"items\":[{\"id\":\"1057\",\"type\":\"LegendItem\"}],\"location\":\"center_right\",\"plot\":{\"id\":\"1003\",\"subtype\":\"Figure\",\"type\":\"Plot\"}},\"id\":\"1056\",\"type\":\"Legend\"},{\"attributes\":{\"bottom\":{\"value\":0},\"fill_alpha\":{\"value\":0.5},\"fill_color\":{\"value\":\"navy\"},\"left\":{\"field\":\"left\"},\"line_alpha\":{\"value\":0.5},\"line_color\":{\"value\":\"white\"},\"right\":{\"field\":\"right\"},\"top\":{\"field\":\"top\"}},\"id\":\"1039\",\"type\":\"Quad\"},{\"attributes\":{\"data_source\":{\"id\":\"1043\",\"type\":\"ColumnDataSource\"},\"glyph\":{\"id\":\"1044\",\"type\":\"Line\"},\"hover_glyph\":null,\"muted_glyph\":null,\"nonselection_glyph\":{\"id\":\"1045\",\"type\":\"Line\"},\"selection_glyph\":null,\"view\":{\"id\":\"1047\",\"type\":\"CDSView\"}},\"id\":\"1046\",\"type\":\"GlyphRenderer\"},{\"attributes\":{\"callback\":null,\"start\":0},\"id\":\"1007\",\"type\":\"DataRange1d\"},{\"attributes\":{},\"id\":\"1019\",\"type\":\"BasicTicker\"},{\"attributes\":{\"source\":{\"id\":\"1043\",\"type\":\"ColumnDataSource\"}},\"id\":\"1047\",\"type\":\"CDSView\"},{\"attributes\":{\"callback\":null,\"data\":{\"left\":{\"__ndarray__\":\"v58aL90k5j+pOPvwGXZBQGkDnTbQSVFAfmq8dJPYWUDK6G1ZqzNhQFScffgMe2VA30+Nl27CaUBqA5020AluQHpb1uqYKHFA\",\"dtype\":\"float64\",\"shape\":[9]},\"right\":{\"__ndarray__\":\"qTj78Bl2QUBpA5020ElRQH5qvHST2FlAyuhtWaszYUBUnH34DHtlQN9PjZduwmlAagOdNtAJbkB6W9bqmChxQD81XrpJTHNA\",\"dtype\":\"float64\",\"shape\":[9]},\"top\":{\"__ndarray__\":\"moyO5Xx9jD/k1j5Rysp2Pwb8Fgdx8XM/39Y+UcrKVj/l1j5RyspGP9/WPlHKykY/39Y+UcrKRj8AAAAAAAAAAOXWPlHKylY/\",\"dtype\":\"float64\",\"shape\":[9]}},\"selected\":{\"id\":\"1054\",\"type\":\"Selection\"},\"selection_policy\":{\"id\":\"1055\",\"type\":\"UnionRenderers\"}},\"id\":\"1038\",\"type\":\"ColumnDataSource\"},{\"attributes\":{\"dimension\":1,\"grid_line_color\":{\"value\":\"white\"},\"plot\":{\"id\":\"1003\",\"subtype\":\"Figure\",\"type\":\"Plot\"},\"ticker\":{\"id\":\"1019\",\"type\":\"BasicTicker\"}},\"id\":\"1022\",\"type\":\"Grid\"},{\"attributes\":{},\"id\":\"1054\",\"type\":\"Selection\"},{\"attributes\":{},\"id\":\"1011\",\"type\":\"LinearScale\"},{\"attributes\":{\"axis_label\":\"Pr(x)\",\"formatter\":{\"id\":\"1051\",\"type\":\"BasicTickFormatter\"},\"plot\":{\"id\":\"1003\",\"subtype\":\"Figure\",\"type\":\"Plot\"},\"ticker\":{\"id\":\"1019\",\"type\":\"BasicTicker\"}},\"id\":\"1018\",\"type\":\"LinearAxis\"},{\"attributes\":{},\"id\":\"1055\",\"type\":\"UnionRenderers\"},{\"attributes\":{},\"id\":\"1014\",\"type\":\"BasicTicker\"},{\"attributes\":{\"axis_label\":\"Cum MBO\",\"formatter\":{\"id\":\"1049\",\"type\":\"BasicTickFormatter\"},\"plot\":{\"id\":\"1003\",\"subtype\":\"Figure\",\"type\":\"Plot\"},\"ticker\":{\"id\":\"1014\",\"type\":\"BasicTicker\"}},\"id\":\"1013\",\"type\":\"LinearAxis\"},{\"attributes\":{\"label\":{\"value\":\"CDF\"},\"renderers\":[{\"id\":\"1046\",\"type\":\"GlyphRenderer\"}]},\"id\":\"1057\",\"type\":\"LegendItem\"},{\"attributes\":{\"grid_line_color\":{\"value\":\"white\"},\"plot\":{\"id\":\"1003\",\"subtype\":\"Figure\",\"type\":\"Plot\"},\"ticker\":{\"id\":\"1014\",\"type\":\"BasicTicker\"}},\"id\":\"1017\",\"type\":\"Grid\"},{\"attributes\":{},\"id\":\"1009\",\"type\":\"LinearScale\"},{\"attributes\":{},\"id\":\"1023\",\"type\":\"PanTool\"},{\"attributes\":{},\"id\":\"1189\",\"type\":\"UnionRenderers\"},{\"attributes\":{},\"id\":\"1024\",\"type\":\"WheelZoomTool\"},{\"attributes\":{\"overlay\":{\"id\":\"1031\",\"type\":\"BoxAnnotation\"}},\"id\":\"1025\",\"type\":\"BoxZoomTool\"}],\"root_ids\":[\"1003\"]},\"title\":\"Bokeh Application\",\"version\":\"1.0.4\"}};\n",
       "  var render_items = [{\"docid\":\"221f1cb2-39a9-4fb3-9202-95a41f2bfb85\",\"roots\":{\"1003\":\"3048f24e-3b71-4770-ba8e-585843c5263a\"}}];\n",
       "  root.Bokeh.embed.embed_items_notebook(docs_json, render_items);\n",
       "\n",
       "  }\n",
       "  if (root.Bokeh !== undefined) {\n",
       "    embed_document(root);\n",
       "  } else {\n",
       "    var attempts = 0;\n",
       "    var timer = setInterval(function(root) {\n",
       "      if (root.Bokeh !== undefined) {\n",
       "        embed_document(root);\n",
       "        clearInterval(timer);\n",
       "      }\n",
       "      attempts++;\n",
       "      if (attempts > 100) {\n",
       "        console.log(\"Bokeh: ERROR: Unable to run BokehJS code because BokehJS library is missing\");\n",
       "        clearInterval(timer);\n",
       "      }\n",
       "    }, 10, root)\n",
       "  }\n",
       "})(window);"
      ],
      "application/vnd.bokehjs_exec.v0+json": ""
     },
     "metadata": {
      "application/vnd.bokehjs_exec.v0+json": {
       "id": "1003"
      }
     },
     "output_type": "display_data"
    }
   ],
   "source": [
    "show(plot_cdf)"
   ]
  },
  {
   "cell_type": "code",
   "execution_count": 11,
   "metadata": {},
   "outputs": [
    {
     "data": {
      "text/html": [
       "\n",
       "\n",
       "\n",
       "\n",
       "\n",
       "\n",
       "  <div class=\"bk-root\" id=\"523936a8-fd9b-4224-acd4-36ce27407c8a\" data-root-id=\"1059\"></div>\n"
      ]
     },
     "metadata": {},
     "output_type": "display_data"
    },
    {
     "data": {
      "application/javascript": [
       "(function(root) {\n",
       "  function embed_document(root) {\n",
       "    \n",
       "  var docs_json = {\"b0890a84-481e-49ae-8ba3-65c3afd1b8b1\":{\"roots\":{\"references\":[{\"attributes\":{\"background_fill_color\":{\"value\":\"#fafafa\"},\"below\":[{\"id\":\"1068\",\"type\":\"LinearAxis\"}],\"left\":[{\"id\":\"1073\",\"type\":\"LinearAxis\"}],\"renderers\":[{\"id\":\"1068\",\"type\":\"LinearAxis\"},{\"id\":\"1072\",\"type\":\"Grid\"},{\"id\":\"1073\",\"type\":\"LinearAxis\"},{\"id\":\"1077\",\"type\":\"Grid\"},{\"id\":\"1086\",\"type\":\"BoxAnnotation\"},{\"id\":\"1096\",\"type\":\"GlyphRenderer\"},{\"id\":\"1113\",\"type\":\"Legend\"},{\"id\":\"1102\",\"type\":\"GlyphRenderer\"},{\"id\":\"1118\",\"type\":\"GlyphRenderer\"},{\"id\":\"1135\",\"type\":\"GlyphRenderer\"},{\"id\":\"1154\",\"type\":\"GlyphRenderer\"},{\"id\":\"1172\",\"type\":\"BoxAnnotation\"},{\"id\":\"1173\",\"type\":\"BoxAnnotation\"},{\"id\":\"1174\",\"type\":\"BoxAnnotation\"}],\"title\":{\"id\":\"1105\",\"type\":\"Title\"},\"toolbar\":{\"id\":\"1084\",\"type\":\"Toolbar\"},\"x_range\":{\"id\":\"1060\",\"type\":\"DataRange1d\"},\"x_scale\":{\"id\":\"1064\",\"type\":\"LinearScale\"},\"y_range\":{\"id\":\"1062\",\"type\":\"DataRange1d\"},\"y_scale\":{\"id\":\"1066\",\"type\":\"LinearScale\"}},\"id\":\"1059\",\"subtype\":\"Figure\",\"type\":\"Plot\"},{\"attributes\":{\"grid_line_color\":{\"value\":\"white\"},\"plot\":{\"id\":\"1059\",\"subtype\":\"Figure\",\"type\":\"Plot\"},\"ticker\":{\"id\":\"1069\",\"type\":\"BasicTicker\"}},\"id\":\"1072\",\"type\":\"Grid\"},{\"attributes\":{\"axis_label\":\"Pr(x)\",\"formatter\":{\"id\":\"1108\",\"type\":\"BasicTickFormatter\"},\"plot\":{\"id\":\"1059\",\"subtype\":\"Figure\",\"type\":\"Plot\"},\"ticker\":{\"id\":\"1074\",\"type\":\"BasicTicker\"}},\"id\":\"1073\",\"type\":\"LinearAxis\"},{\"attributes\":{},\"id\":\"1129\",\"type\":\"Selection\"},{\"attributes\":{\"data_source\":{\"id\":\"1115\",\"type\":\"ColumnDataSource\"},\"glyph\":{\"id\":\"1116\",\"type\":\"Line\"},\"hover_glyph\":null,\"muted_glyph\":null,\"nonselection_glyph\":{\"id\":\"1117\",\"type\":\"Line\"},\"selection_glyph\":null,\"view\":{\"id\":\"1119\",\"type\":\"CDSView\"}},\"id\":\"1118\",\"type\":\"GlyphRenderer\"},{\"attributes\":{\"label\":{\"value\":\"P90\"},\"renderers\":[{\"id\":\"1118\",\"type\":\"GlyphRenderer\"}]},\"id\":\"1131\",\"type\":\"LegendItem\"},{\"attributes\":{\"callback\":null,\"data\":{\"left\":{\"__ndarray__\":\"v58aL90k5j+pOPvwGXZBQGkDnTbQSVFAfmq8dJPYWUDK6G1ZqzNhQFScffgMe2VA30+Nl27CaUBqA5020AluQHpb1uqYKHFA\",\"dtype\":\"float64\",\"shape\":[9]},\"right\":{\"__ndarray__\":\"qTj78Bl2QUBpA5020ElRQH5qvHST2FlAyuhtWaszYUBUnH34DHtlQN9PjZduwmlAagOdNtAJbkB6W9bqmChxQD81XrpJTHNA\",\"dtype\":\"float64\",\"shape\":[9]},\"top\":{\"__ndarray__\":\"moyO5Xx9jD/k1j5Rysp2Pwb8Fgdx8XM/39Y+UcrKVj/l1j5RyspGP9/WPlHKykY/39Y+UcrKRj8AAAAAAAAAAOXWPlHKylY/\",\"dtype\":\"float64\",\"shape\":[9]}},\"selected\":{\"id\":\"1111\",\"type\":\"Selection\"},\"selection_policy\":{\"id\":\"1112\",\"type\":\"UnionRenderers\"}},\"id\":\"1093\",\"type\":\"ColumnDataSource\"},{\"attributes\":{\"source\":{\"id\":\"1115\",\"type\":\"ColumnDataSource\"}},\"id\":\"1119\",\"type\":\"CDSView\"},{\"attributes\":{\"dimension\":1,\"grid_line_color\":{\"value\":\"white\"},\"plot\":{\"id\":\"1059\",\"subtype\":\"Figure\",\"type\":\"Plot\"},\"ticker\":{\"id\":\"1074\",\"type\":\"BasicTicker\"}},\"id\":\"1077\",\"type\":\"Grid\"},{\"attributes\":{},\"id\":\"1074\",\"type\":\"BasicTicker\"},{\"attributes\":{},\"id\":\"1130\",\"type\":\"UnionRenderers\"},{\"attributes\":{\"data_source\":{\"id\":\"1093\",\"type\":\"ColumnDataSource\"},\"glyph\":{\"id\":\"1094\",\"type\":\"Quad\"},\"hover_glyph\":null,\"muted_glyph\":null,\"nonselection_glyph\":{\"id\":\"1095\",\"type\":\"Quad\"},\"selection_glyph\":null,\"view\":{\"id\":\"1097\",\"type\":\"CDSView\"}},\"id\":\"1096\",\"type\":\"GlyphRenderer\"},{\"attributes\":{\"line_color\":\"darkred\",\"line_width\":3,\"x\":{\"field\":\"x\"},\"y\":{\"field\":\"y\"}},\"id\":\"1116\",\"type\":\"Line\"},{\"attributes\":{},\"id\":\"1148\",\"type\":\"Selection\"},{\"attributes\":{\"bottom\":{\"value\":0},\"fill_alpha\":{\"value\":0.5},\"fill_color\":{\"value\":\"navy\"},\"left\":{\"field\":\"left\"},\"line_alpha\":{\"value\":0.5},\"line_color\":{\"value\":\"white\"},\"right\":{\"field\":\"right\"},\"top\":{\"field\":\"top\"}},\"id\":\"1094\",\"type\":\"Quad\"},{\"attributes\":{\"active_drag\":\"auto\",\"active_inspect\":\"auto\",\"active_multi\":null,\"active_scroll\":\"auto\",\"active_tap\":\"auto\",\"tools\":[{\"id\":\"1078\",\"type\":\"PanTool\"},{\"id\":\"1079\",\"type\":\"WheelZoomTool\"},{\"id\":\"1080\",\"type\":\"BoxZoomTool\"},{\"id\":\"1081\",\"type\":\"SaveTool\"},{\"id\":\"1082\",\"type\":\"ResetTool\"},{\"id\":\"1083\",\"type\":\"HelpTool\"},{\"id\":\"1175\",\"type\":\"HoverTool\"}]},\"id\":\"1084\",\"type\":\"Toolbar\"},{\"attributes\":{},\"id\":\"1078\",\"type\":\"PanTool\"},{\"attributes\":{},\"id\":\"1275\",\"type\":\"Selection\"},{\"attributes\":{},\"id\":\"1079\",\"type\":\"WheelZoomTool\"},{\"attributes\":{\"line_alpha\":0.1,\"line_color\":\"#1f77b4\",\"line_width\":3,\"x\":{\"field\":\"x\"},\"y\":{\"field\":\"y\"}},\"id\":\"1134\",\"type\":\"Line\"},{\"attributes\":{\"data_source\":{\"id\":\"1132\",\"type\":\"ColumnDataSource\"},\"glyph\":{\"id\":\"1133\",\"type\":\"Line\"},\"hover_glyph\":null,\"muted_glyph\":null,\"nonselection_glyph\":{\"id\":\"1134\",\"type\":\"Line\"},\"selection_glyph\":null,\"view\":{\"id\":\"1136\",\"type\":\"CDSView\"}},\"id\":\"1135\",\"type\":\"GlyphRenderer\"},{\"attributes\":{\"overlay\":{\"id\":\"1086\",\"type\":\"BoxAnnotation\"}},\"id\":\"1080\",\"type\":\"BoxZoomTool\"},{\"attributes\":{\"label\":{\"value\":\"P50\"},\"renderers\":[{\"id\":\"1135\",\"type\":\"GlyphRenderer\"}]},\"id\":\"1150\",\"type\":\"LegendItem\"},{\"attributes\":{},\"id\":\"1081\",\"type\":\"SaveTool\"},{\"attributes\":{\"source\":{\"id\":\"1132\",\"type\":\"ColumnDataSource\"}},\"id\":\"1136\",\"type\":\"CDSView\"},{\"attributes\":{},\"id\":\"1082\",\"type\":\"ResetTool\"},{\"attributes\":{},\"id\":\"1149\",\"type\":\"UnionRenderers\"},{\"attributes\":{\"bottom\":{\"value\":0},\"fill_alpha\":{\"value\":0.1},\"fill_color\":{\"value\":\"#1f77b4\"},\"left\":{\"field\":\"left\"},\"line_alpha\":{\"value\":0.1},\"line_color\":{\"value\":\"#1f77b4\"},\"right\":{\"field\":\"right\"},\"top\":{\"field\":\"top\"}},\"id\":\"1095\",\"type\":\"Quad\"},{\"attributes\":{},\"id\":\"1083\",\"type\":\"HelpTool\"},{\"attributes\":{},\"id\":\"1169\",\"type\":\"Selection\"},{\"attributes\":{\"source\":{\"id\":\"1093\",\"type\":\"ColumnDataSource\"}},\"id\":\"1097\",\"type\":\"CDSView\"},{\"attributes\":{\"line_color\":\"blue\",\"line_width\":3,\"x\":{\"field\":\"x\"},\"y\":{\"field\":\"y\"}},\"id\":\"1133\",\"type\":\"Line\"},{\"attributes\":{\"line_color\":\"red\",\"line_width\":3,\"x\":{\"field\":\"x\"},\"y\":{\"field\":\"y\"}},\"id\":\"1152\",\"type\":\"Line\"},{\"attributes\":{\"callback\":null,\"data\":{\"x\":[35.0,35.0],\"y\":[0,0.021568472098360825]},\"selected\":{\"id\":\"1169\",\"type\":\"Selection\"},\"selection_policy\":{\"id\":\"1170\",\"type\":\"UnionRenderers\"}},\"id\":\"1132\",\"type\":\"ColumnDataSource\"},{\"attributes\":{\"callback\":null,\"data\":{\"x\":[204.0,204.0],\"y\":[0,0.021568472098360825]},\"selected\":{\"id\":\"1275\",\"type\":\"Selection\"},\"selection_policy\":{\"id\":\"1276\",\"type\":\"UnionRenderers\"}},\"id\":\"1151\",\"type\":\"ColumnDataSource\"},{\"attributes\":{\"bottom_units\":\"screen\",\"fill_alpha\":{\"value\":0.5},\"fill_color\":{\"value\":\"lightgrey\"},\"left_units\":\"screen\",\"level\":\"overlay\",\"line_alpha\":{\"value\":1.0},\"line_color\":{\"value\":\"black\"},\"line_dash\":[4,4],\"line_width\":{\"value\":2},\"plot\":null,\"render_mode\":\"css\",\"right_units\":\"screen\",\"top_units\":\"screen\"},\"id\":\"1086\",\"type\":\"BoxAnnotation\"},{\"attributes\":{\"line_alpha\":0.1,\"line_color\":\"#1f77b4\",\"line_width\":3,\"x\":{\"field\":\"x\"},\"y\":{\"field\":\"y\"}},\"id\":\"1153\",\"type\":\"Line\"},{\"attributes\":{\"data_source\":{\"id\":\"1151\",\"type\":\"ColumnDataSource\"},\"glyph\":{\"id\":\"1152\",\"type\":\"Line\"},\"hover_glyph\":null,\"muted_glyph\":null,\"nonselection_glyph\":{\"id\":\"1153\",\"type\":\"Line\"},\"selection_glyph\":null,\"view\":{\"id\":\"1155\",\"type\":\"CDSView\"}},\"id\":\"1154\",\"type\":\"GlyphRenderer\"},{\"attributes\":{\"use_scientific\":false},\"id\":\"1108\",\"type\":\"BasicTickFormatter\"},{\"attributes\":{\"label\":{\"value\":\"P10\"},\"renderers\":[{\"id\":\"1154\",\"type\":\"GlyphRenderer\"}]},\"id\":\"1171\",\"type\":\"LegendItem\"},{\"attributes\":{\"callback\":null,\"data\":{\"x\":{\"__ndarray__\":\"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\",\"dtype\":\"float64\",\"shape\":[1000]},\"y\":{\"__ndarray__\":\"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\",\"dtype\":\"float64\",\"shape\":[1000]}},\"selected\":{\"id\":\"1129\",\"type\":\"Selection\"},\"selection_policy\":{\"id\":\"1130\",\"type\":\"UnionRenderers\"}},\"id\":\"1098\",\"type\":\"ColumnDataSource\"},{\"attributes\":{\"source\":{\"id\":\"1151\",\"type\":\"ColumnDataSource\"}},\"id\":\"1155\",\"type\":\"CDSView\"},{\"attributes\":{\"line_alpha\":0.8,\"line_width\":4,\"x\":{\"field\":\"x\"},\"y\":{\"field\":\"y\"}},\"id\":\"1099\",\"type\":\"Line\"},{\"attributes\":{},\"id\":\"1170\",\"type\":\"UnionRenderers\"},{\"attributes\":{\"line_alpha\":0.1,\"line_color\":\"#1f77b4\",\"line_width\":4,\"x\":{\"field\":\"x\"},\"y\":{\"field\":\"y\"}},\"id\":\"1100\",\"type\":\"Line\"},{\"attributes\":{\"fill_alpha\":{\"value\":0.1},\"fill_color\":{\"value\":\"darkred\"},\"left\":204.0,\"plot\":{\"id\":\"1059\",\"subtype\":\"Figure\",\"type\":\"Plot\"},\"right\":376.2235714285714},\"id\":\"1174\",\"type\":\"BoxAnnotation\"},{\"attributes\":{\"line_alpha\":0.4,\"line_width\":4,\"x\":{\"field\":\"x\"},\"y\":{\"field\":\"y\"}},\"id\":\"1101\",\"type\":\"Line\"},{\"attributes\":{\"fill_alpha\":{\"value\":0.1},\"fill_color\":{\"value\":\"darkred\"},\"left\":6.0,\"plot\":{\"id\":\"1059\",\"subtype\":\"Figure\",\"type\":\"Plot\"},\"right\":35.0},\"id\":\"1172\",\"type\":\"BoxAnnotation\"},{\"attributes\":{\"source\":{\"id\":\"1098\",\"type\":\"ColumnDataSource\"}},\"id\":\"1103\",\"type\":\"CDSView\"},{\"attributes\":{\"fill_alpha\":{\"value\":0.1},\"fill_color\":{\"value\":\"blue\"},\"left\":35.0,\"plot\":{\"id\":\"1059\",\"subtype\":\"Figure\",\"type\":\"Plot\"},\"right\":204.0},\"id\":\"1173\",\"type\":\"BoxAnnotation\"},{\"attributes\":{\"label\":{\"value\":\"PDF\"},\"renderers\":[{\"id\":\"1102\",\"type\":\"GlyphRenderer\"}]},\"id\":\"1114\",\"type\":\"LegendItem\"},{\"attributes\":{\"data_source\":{\"id\":\"1098\",\"type\":\"ColumnDataSource\"},\"glyph\":{\"id\":\"1099\",\"type\":\"Line\"},\"hover_glyph\":{\"id\":\"1101\",\"type\":\"Line\"},\"muted_glyph\":null,\"nonselection_glyph\":{\"id\":\"1100\",\"type\":\"Line\"},\"selection_glyph\":null,\"view\":{\"id\":\"1103\",\"type\":\"CDSView\"}},\"id\":\"1102\",\"type\":\"GlyphRenderer\"},{\"attributes\":{},\"id\":\"1276\",\"type\":\"UnionRenderers\"},{\"attributes\":{\"callback\":null,\"data\":{\"x\":[6.0,6.0],\"y\":[0,0.021568472098360825]},\"selected\":{\"id\":\"1148\",\"type\":\"Selection\"},\"selection_policy\":{\"id\":\"1149\",\"type\":\"UnionRenderers\"}},\"id\":\"1115\",\"type\":\"ColumnDataSource\"},{\"attributes\":{\"callback\":null},\"id\":\"1060\",\"type\":\"DataRange1d\"},{\"attributes\":{\"align\":\"center\",\"plot\":null,\"text\":\"Log Normal Distribution (\\u03bc=34.73, \\u03c3=1.38) & (P90: 6, P50: 35, P10: 204)\"},\"id\":\"1105\",\"type\":\"Title\"},{\"attributes\":{\"background_fill_color\":{\"value\":\"#fefefe\"},\"items\":[{\"id\":\"1114\",\"type\":\"LegendItem\"},{\"id\":\"1131\",\"type\":\"LegendItem\"},{\"id\":\"1150\",\"type\":\"LegendItem\"},{\"id\":\"1171\",\"type\":\"LegendItem\"}],\"location\":\"center_right\",\"plot\":{\"id\":\"1059\",\"subtype\":\"Figure\",\"type\":\"Plot\"}},\"id\":\"1113\",\"type\":\"Legend\"},{\"attributes\":{\"callback\":null},\"id\":\"1175\",\"type\":\"HoverTool\"},{\"attributes\":{},\"id\":\"1111\",\"type\":\"Selection\"},{\"attributes\":{},\"id\":\"1064\",\"type\":\"LinearScale\"},{\"attributes\":{},\"id\":\"1106\",\"type\":\"BasicTickFormatter\"},{\"attributes\":{\"callback\":null,\"start\":0},\"id\":\"1062\",\"type\":\"DataRange1d\"},{\"attributes\":{},\"id\":\"1112\",\"type\":\"UnionRenderers\"},{\"attributes\":{\"line_alpha\":0.1,\"line_color\":\"#1f77b4\",\"line_width\":3,\"x\":{\"field\":\"x\"},\"y\":{\"field\":\"y\"}},\"id\":\"1117\",\"type\":\"Line\"},{\"attributes\":{},\"id\":\"1066\",\"type\":\"LinearScale\"},{\"attributes\":{},\"id\":\"1069\",\"type\":\"BasicTicker\"},{\"attributes\":{\"axis_label\":\"Cum MBO\",\"formatter\":{\"id\":\"1106\",\"type\":\"BasicTickFormatter\"},\"plot\":{\"id\":\"1059\",\"subtype\":\"Figure\",\"type\":\"Plot\"},\"ticker\":{\"id\":\"1069\",\"type\":\"BasicTicker\"}},\"id\":\"1068\",\"type\":\"LinearAxis\"}],\"root_ids\":[\"1059\"]},\"title\":\"Bokeh Application\",\"version\":\"1.0.4\"}};\n",
       "  var render_items = [{\"docid\":\"b0890a84-481e-49ae-8ba3-65c3afd1b8b1\",\"roots\":{\"1059\":\"523936a8-fd9b-4224-acd4-36ce27407c8a\"}}];\n",
       "  root.Bokeh.embed.embed_items_notebook(docs_json, render_items);\n",
       "\n",
       "  }\n",
       "  if (root.Bokeh !== undefined) {\n",
       "    embed_document(root);\n",
       "  } else {\n",
       "    var attempts = 0;\n",
       "    var timer = setInterval(function(root) {\n",
       "      if (root.Bokeh !== undefined) {\n",
       "        embed_document(root);\n",
       "        clearInterval(timer);\n",
       "      }\n",
       "      attempts++;\n",
       "      if (attempts > 100) {\n",
       "        console.log(\"Bokeh: ERROR: Unable to run BokehJS code because BokehJS library is missing\");\n",
       "        clearInterval(timer);\n",
       "      }\n",
       "    }, 10, root)\n",
       "  }\n",
       "})(window);"
      ],
      "application/vnd.bokehjs_exec.v0+json": ""
     },
     "metadata": {
      "application/vnd.bokehjs_exec.v0+json": {
       "id": "1059"
      }
     },
     "output_type": "display_data"
    }
   ],
   "source": [
    "show(plot_pdf)"
   ]
  },
  {
   "cell_type": "code",
   "execution_count": 12,
   "metadata": {},
   "outputs": [
    {
     "data": {
      "text/plain": [
       "35.0"
      ]
     },
     "execution_count": 12,
     "metadata": {},
     "output_type": "execute_result"
    }
   ],
   "source": [
    "# P50 value\n",
    "p50_param = find_nearest(cdf, 0.5)\n",
    "p50_value = round(x[p50_param[1]])\n",
    "p50_value"
   ]
  },
  {
   "cell_type": "code",
   "execution_count": 13,
   "metadata": {},
   "outputs": [
    {
     "data": {
      "text/plain": [
       "204.0"
      ]
     },
     "execution_count": 13,
     "metadata": {},
     "output_type": "execute_result"
    }
   ],
   "source": [
    "# P10 value, only 10% of values will have this value or more\n",
    "p10_param = find_nearest(cdf, 0.9)\n",
    "p10_value = round(x[p10_param[1]])\n",
    "p10_value"
   ]
  },
  {
   "cell_type": "code",
   "execution_count": 14,
   "metadata": {},
   "outputs": [
    {
     "data": {
      "text/plain": [
       "6.0"
      ]
     },
     "execution_count": 14,
     "metadata": {},
     "output_type": "execute_result"
    }
   ],
   "source": [
    "# P90 value, 90% of values will have this value or more\n",
    "p90_param = find_nearest(cdf, 0.1)\n",
    "p90_value = round(x[p90_param[1]])\n",
    "p90_value\n"
   ]
  }
 ],
 "metadata": {
  "file_extension": ".py",
  "kernelspec": {
   "display_name": "Python 3",
   "language": "python",
   "name": "python3"
  },
  "language_info": {
   "codemirror_mode": {
    "name": "ipython",
    "version": 3
   },
   "file_extension": ".py",
   "mimetype": "text/x-python",
   "name": "python",
   "nbconvert_exporter": "python",
   "pygments_lexer": "ipython3",
   "version": "3.7.1"
  },
  "mimetype": "text/x-python",
  "name": "python",
  "npconvert_exporter": "python",
  "pygments_lexer": "ipython3",
  "version": 3
 },
 "nbformat": 4,
 "nbformat_minor": 2
}
