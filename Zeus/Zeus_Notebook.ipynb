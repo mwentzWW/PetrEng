{
 "cells": [
  {
   "cell_type": "markdown",
   "metadata": {},
   "source": [
    "# Project Zeus\n",
    "## Created by Michael Wentz"
   ]
  },
  {
   "cell_type": "markdown",
   "metadata": {},
   "source": [
    "### Import Modules"
   ]
  },
  {
   "cell_type": "code",
   "execution_count": 1,
   "metadata": {},
   "outputs": [],
   "source": [
    "import numpy as np\n",
    "import pandas as pd\n",
    "from ipywidgets import interact, interactive, fixed, interact_manual, VBox, FloatSlider\n",
    "import ipywidgets as widgets"
   ]
  },
  {
   "cell_type": "markdown",
   "metadata": {},
   "source": [
    "### Load production data from excel file"
   ]
  },
  {
   "cell_type": "code",
   "execution_count": 2,
   "metadata": {},
   "outputs": [
    {
     "name": "stdout",
     "output_type": "stream",
     "text": [
      "<class 'pandas.core.frame.DataFrame'>\n",
      "RangeIndex: 704 entries, 0 to 703\n",
      "Data columns (total 5 columns):\n",
      "api number         704 non-null object\n",
      "production date    704 non-null datetime64[ns]\n",
      "oil_bbl            694 non-null float64\n",
      "gas_mcf            694 non-null float64\n",
      "water_bbl          693 non-null float64\n",
      "dtypes: datetime64[ns](1), float64(3), object(1)\n",
      "memory usage: 27.6+ KB\n"
     ]
    }
   ],
   "source": [
    "file = 'https://raw.githubusercontent.com/mwentzWW/petrolpy/master/Zeus/Sample_Production/Sample_Prod_Data.xlsx'\n",
    "well_data = pd.read_excel(file)\n",
    "well_data.columns = [c.lower() for c in well_data.columns]\n",
    "well_data.info()"
   ]
  },
  {
   "cell_type": "markdown",
   "metadata": {},
   "source": [
    "### Check Data Layout"
   ]
  },
  {
   "cell_type": "code",
   "execution_count": 3,
   "metadata": {},
   "outputs": [
    {
     "data": {
      "text/html": [
       "<div>\n",
       "<style scoped>\n",
       "    .dataframe tbody tr th:only-of-type {\n",
       "        vertical-align: middle;\n",
       "    }\n",
       "\n",
       "    .dataframe tbody tr th {\n",
       "        vertical-align: top;\n",
       "    }\n",
       "\n",
       "    .dataframe thead th {\n",
       "        text-align: right;\n",
       "    }\n",
       "</style>\n",
       "<table border=\"1\" class=\"dataframe\">\n",
       "  <thead>\n",
       "    <tr style=\"text-align: right;\">\n",
       "      <th></th>\n",
       "      <th>api number</th>\n",
       "      <th>production date</th>\n",
       "      <th>oil_bbl</th>\n",
       "      <th>gas_mcf</th>\n",
       "      <th>water_bbl</th>\n",
       "    </tr>\n",
       "  </thead>\n",
       "  <tbody>\n",
       "    <tr>\n",
       "      <th>0</th>\n",
       "      <td>40 063 05037</td>\n",
       "      <td>1959-05-31</td>\n",
       "      <td>3533.0</td>\n",
       "      <td>0.0</td>\n",
       "      <td>0.0</td>\n",
       "    </tr>\n",
       "    <tr>\n",
       "      <th>1</th>\n",
       "      <td>40 063 05037</td>\n",
       "      <td>1959-06-30</td>\n",
       "      <td>4763.0</td>\n",
       "      <td>0.0</td>\n",
       "      <td>0.0</td>\n",
       "    </tr>\n",
       "    <tr>\n",
       "      <th>2</th>\n",
       "      <td>40 063 05037</td>\n",
       "      <td>1959-07-31</td>\n",
       "      <td>4475.0</td>\n",
       "      <td>1570.0</td>\n",
       "      <td>0.0</td>\n",
       "    </tr>\n",
       "    <tr>\n",
       "      <th>3</th>\n",
       "      <td>40 063 05037</td>\n",
       "      <td>1959-08-31</td>\n",
       "      <td>2620.0</td>\n",
       "      <td>917.0</td>\n",
       "      <td>0.0</td>\n",
       "    </tr>\n",
       "    <tr>\n",
       "      <th>4</th>\n",
       "      <td>40 063 05037</td>\n",
       "      <td>1959-09-30</td>\n",
       "      <td>3531.0</td>\n",
       "      <td>1236.0</td>\n",
       "      <td>0.0</td>\n",
       "    </tr>\n",
       "  </tbody>\n",
       "</table>\n",
       "</div>"
      ],
      "text/plain": [
       "     api number production date  oil_bbl  gas_mcf  water_bbl\n",
       "0  40 063 05037      1959-05-31   3533.0      0.0        0.0\n",
       "1  40 063 05037      1959-06-30   4763.0      0.0        0.0\n",
       "2  40 063 05037      1959-07-31   4475.0   1570.0        0.0\n",
       "3  40 063 05037      1959-08-31   2620.0    917.0        0.0\n",
       "4  40 063 05037      1959-09-30   3531.0   1236.0        0.0"
      ]
     },
     "execution_count": 3,
     "metadata": {},
     "output_type": "execute_result"
    }
   ],
   "source": [
    "well_data.head()"
   ]
  },
  {
   "cell_type": "markdown",
   "metadata": {},
   "source": [
    "### Delete API because there is only one well, and we don't need water"
   ]
  },
  {
   "cell_type": "code",
   "execution_count": 4,
   "metadata": {},
   "outputs": [
    {
     "data": {
      "text/html": [
       "<div>\n",
       "<style scoped>\n",
       "    .dataframe tbody tr th:only-of-type {\n",
       "        vertical-align: middle;\n",
       "    }\n",
       "\n",
       "    .dataframe tbody tr th {\n",
       "        vertical-align: top;\n",
       "    }\n",
       "\n",
       "    .dataframe thead th {\n",
       "        text-align: right;\n",
       "    }\n",
       "</style>\n",
       "<table border=\"1\" class=\"dataframe\">\n",
       "  <thead>\n",
       "    <tr style=\"text-align: right;\">\n",
       "      <th></th>\n",
       "      <th>production date</th>\n",
       "      <th>oil_bbl</th>\n",
       "      <th>gas_mcf</th>\n",
       "    </tr>\n",
       "  </thead>\n",
       "  <tbody>\n",
       "    <tr>\n",
       "      <th>0</th>\n",
       "      <td>1959-05-31</td>\n",
       "      <td>3533.0</td>\n",
       "      <td>0.0</td>\n",
       "    </tr>\n",
       "    <tr>\n",
       "      <th>1</th>\n",
       "      <td>1959-06-30</td>\n",
       "      <td>4763.0</td>\n",
       "      <td>0.0</td>\n",
       "    </tr>\n",
       "    <tr>\n",
       "      <th>2</th>\n",
       "      <td>1959-07-31</td>\n",
       "      <td>4475.0</td>\n",
       "      <td>1570.0</td>\n",
       "    </tr>\n",
       "    <tr>\n",
       "      <th>3</th>\n",
       "      <td>1959-08-31</td>\n",
       "      <td>2620.0</td>\n",
       "      <td>917.0</td>\n",
       "    </tr>\n",
       "    <tr>\n",
       "      <th>4</th>\n",
       "      <td>1959-09-30</td>\n",
       "      <td>3531.0</td>\n",
       "      <td>1236.0</td>\n",
       "    </tr>\n",
       "  </tbody>\n",
       "</table>\n",
       "</div>"
      ],
      "text/plain": [
       "  production date  oil_bbl  gas_mcf\n",
       "0      1959-05-31   3533.0      0.0\n",
       "1      1959-06-30   4763.0      0.0\n",
       "2      1959-07-31   4475.0   1570.0\n",
       "3      1959-08-31   2620.0    917.0\n",
       "4      1959-09-30   3531.0   1236.0"
      ]
     },
     "execution_count": 4,
     "metadata": {},
     "output_type": "execute_result"
    }
   ],
   "source": [
    "well_data.drop(columns=['api number', 'water_bbl'], inplace=True)\n",
    "well_data.head()"
   ]
  },
  {
   "cell_type": "markdown",
   "metadata": {},
   "source": [
    "### Replace NaN with zeros for computations"
   ]
  },
  {
   "cell_type": "code",
   "execution_count": 5,
   "metadata": {},
   "outputs": [],
   "source": [
    "well_data.fillna(value=0, inplace=True)"
   ]
  },
  {
   "cell_type": "markdown",
   "metadata": {},
   "source": [
    "### Calculate effective decline rate for oil and gas"
   ]
  },
  {
   "cell_type": "code",
   "execution_count": 6,
   "metadata": {},
   "outputs": [],
   "source": [
    "qi_oil = well_data.oil_bbl[0:30].max()\n",
    "qi_gas = well_data.gas_mcf[0:30].max()"
   ]
  },
  {
   "cell_type": "code",
   "execution_count": 7,
   "metadata": {},
   "outputs": [],
   "source": [
    "well_data['eff_decline_oil'] = -(well_data.oil_bbl - qi_oil)/qi_oil\n",
    "well_data['eff_decline_gas'] = -(well_data.gas_mcf - qi_gas)/qi_gas"
   ]
  },
  {
   "cell_type": "code",
   "execution_count": 8,
   "metadata": {},
   "outputs": [
    {
     "data": {
      "text/html": [
       "<div>\n",
       "<style scoped>\n",
       "    .dataframe tbody tr th:only-of-type {\n",
       "        vertical-align: middle;\n",
       "    }\n",
       "\n",
       "    .dataframe tbody tr th {\n",
       "        vertical-align: top;\n",
       "    }\n",
       "\n",
       "    .dataframe thead th {\n",
       "        text-align: right;\n",
       "    }\n",
       "</style>\n",
       "<table border=\"1\" class=\"dataframe\">\n",
       "  <thead>\n",
       "    <tr style=\"text-align: right;\">\n",
       "      <th></th>\n",
       "      <th>production date</th>\n",
       "      <th>oil_bbl</th>\n",
       "      <th>gas_mcf</th>\n",
       "      <th>eff_decline_oil</th>\n",
       "      <th>eff_decline_gas</th>\n",
       "    </tr>\n",
       "  </thead>\n",
       "  <tbody>\n",
       "    <tr>\n",
       "      <th>0</th>\n",
       "      <td>1959-05-31</td>\n",
       "      <td>3533.0</td>\n",
       "      <td>0.0</td>\n",
       "      <td>0.258241</td>\n",
       "      <td>1.000000</td>\n",
       "    </tr>\n",
       "    <tr>\n",
       "      <th>1</th>\n",
       "      <td>1959-06-30</td>\n",
       "      <td>4763.0</td>\n",
       "      <td>0.0</td>\n",
       "      <td>-0.000000</td>\n",
       "      <td>1.000000</td>\n",
       "    </tr>\n",
       "    <tr>\n",
       "      <th>2</th>\n",
       "      <td>1959-07-31</td>\n",
       "      <td>4475.0</td>\n",
       "      <td>1570.0</td>\n",
       "      <td>0.060466</td>\n",
       "      <td>-0.000000</td>\n",
       "    </tr>\n",
       "    <tr>\n",
       "      <th>3</th>\n",
       "      <td>1959-08-31</td>\n",
       "      <td>2620.0</td>\n",
       "      <td>917.0</td>\n",
       "      <td>0.449927</td>\n",
       "      <td>0.415924</td>\n",
       "    </tr>\n",
       "    <tr>\n",
       "      <th>4</th>\n",
       "      <td>1959-09-30</td>\n",
       "      <td>3531.0</td>\n",
       "      <td>1236.0</td>\n",
       "      <td>0.258661</td>\n",
       "      <td>0.212739</td>\n",
       "    </tr>\n",
       "  </tbody>\n",
       "</table>\n",
       "</div>"
      ],
      "text/plain": [
       "  production date  oil_bbl  gas_mcf  eff_decline_oil  eff_decline_gas\n",
       "0      1959-05-31   3533.0      0.0         0.258241         1.000000\n",
       "1      1959-06-30   4763.0      0.0        -0.000000         1.000000\n",
       "2      1959-07-31   4475.0   1570.0         0.060466        -0.000000\n",
       "3      1959-08-31   2620.0    917.0         0.449927         0.415924\n",
       "4      1959-09-30   3531.0   1236.0         0.258661         0.212739"
      ]
     },
     "execution_count": 8,
     "metadata": {},
     "output_type": "execute_result"
    }
   ],
   "source": [
    "well_data.head()"
   ]
  },
  {
   "cell_type": "markdown",
   "metadata": {},
   "source": [
    "### Normalize data by time"
   ]
  },
  {
   "cell_type": "code",
   "execution_count": 9,
   "metadata": {},
   "outputs": [
    {
     "data": {
      "text/plain": [
       "704"
      ]
     },
     "execution_count": 9,
     "metadata": {},
     "output_type": "execute_result"
    }
   ],
   "source": [
    "num_days_online = len(well_data['oil_bbl'])\n",
    "num_days_online"
   ]
  },
  {
   "cell_type": "code",
   "execution_count": 10,
   "metadata": {},
   "outputs": [
    {
     "data": {
      "text/plain": [
       "[0, 1, 2, 3, 4, 5, 6, 7, 8, 9]"
      ]
     },
     "execution_count": 10,
     "metadata": {},
     "output_type": "execute_result"
    }
   ],
   "source": [
    "days = []\n",
    "for day in range(0, num_days_online):\n",
    "    days.append(day)\n",
    "days[0:10]"
   ]
  },
  {
   "cell_type": "code",
   "execution_count": 11,
   "metadata": {},
   "outputs": [
    {
     "data": {
      "text/html": [
       "<div>\n",
       "<style scoped>\n",
       "    .dataframe tbody tr th:only-of-type {\n",
       "        vertical-align: middle;\n",
       "    }\n",
       "\n",
       "    .dataframe tbody tr th {\n",
       "        vertical-align: top;\n",
       "    }\n",
       "\n",
       "    .dataframe thead th {\n",
       "        text-align: right;\n",
       "    }\n",
       "</style>\n",
       "<table border=\"1\" class=\"dataframe\">\n",
       "  <thead>\n",
       "    <tr style=\"text-align: right;\">\n",
       "      <th></th>\n",
       "      <th>production date</th>\n",
       "      <th>oil_bbl</th>\n",
       "      <th>gas_mcf</th>\n",
       "      <th>eff_decline_oil</th>\n",
       "      <th>eff_decline_gas</th>\n",
       "      <th>time</th>\n",
       "    </tr>\n",
       "  </thead>\n",
       "  <tbody>\n",
       "    <tr>\n",
       "      <th>0</th>\n",
       "      <td>1959-05-31</td>\n",
       "      <td>3533.0</td>\n",
       "      <td>0.0</td>\n",
       "      <td>0.258241</td>\n",
       "      <td>1.000000</td>\n",
       "      <td>0</td>\n",
       "    </tr>\n",
       "    <tr>\n",
       "      <th>1</th>\n",
       "      <td>1959-06-30</td>\n",
       "      <td>4763.0</td>\n",
       "      <td>0.0</td>\n",
       "      <td>-0.000000</td>\n",
       "      <td>1.000000</td>\n",
       "      <td>1</td>\n",
       "    </tr>\n",
       "    <tr>\n",
       "      <th>2</th>\n",
       "      <td>1959-07-31</td>\n",
       "      <td>4475.0</td>\n",
       "      <td>1570.0</td>\n",
       "      <td>0.060466</td>\n",
       "      <td>-0.000000</td>\n",
       "      <td>2</td>\n",
       "    </tr>\n",
       "    <tr>\n",
       "      <th>3</th>\n",
       "      <td>1959-08-31</td>\n",
       "      <td>2620.0</td>\n",
       "      <td>917.0</td>\n",
       "      <td>0.449927</td>\n",
       "      <td>0.415924</td>\n",
       "      <td>3</td>\n",
       "    </tr>\n",
       "    <tr>\n",
       "      <th>4</th>\n",
       "      <td>1959-09-30</td>\n",
       "      <td>3531.0</td>\n",
       "      <td>1236.0</td>\n",
       "      <td>0.258661</td>\n",
       "      <td>0.212739</td>\n",
       "      <td>4</td>\n",
       "    </tr>\n",
       "  </tbody>\n",
       "</table>\n",
       "</div>"
      ],
      "text/plain": [
       "  production date  oil_bbl  gas_mcf  eff_decline_oil  eff_decline_gas  time\n",
       "0      1959-05-31   3533.0      0.0         0.258241         1.000000     0\n",
       "1      1959-06-30   4763.0      0.0        -0.000000         1.000000     1\n",
       "2      1959-07-31   4475.0   1570.0         0.060466        -0.000000     2\n",
       "3      1959-08-31   2620.0    917.0         0.449927         0.415924     3\n",
       "4      1959-09-30   3531.0   1236.0         0.258661         0.212739     4"
      ]
     },
     "execution_count": 11,
     "metadata": {},
     "output_type": "execute_result"
    }
   ],
   "source": [
    "well_data['time'] = days\n",
    "well_data.head()"
   ]
  },
  {
   "cell_type": "markdown",
   "metadata": {},
   "source": [
    "### Calculate the type curve for oil and gas, assume b = 0.5 (will adjust later), use first 30 day average decline for di"
   ]
  },
  {
   "cell_type": "code",
   "execution_count": 12,
   "metadata": {},
   "outputs": [],
   "source": [
    "well_data.fillna(value=0, inplace=True)\n",
    "well_data.loc[well_data.eff_decline_oil > 10000] = 0\n",
    "well_data.loc[well_data.eff_decline_gas > 10000] = 0"
   ]
  },
  {
   "cell_type": "code",
   "execution_count": 13,
   "metadata": {},
   "outputs": [
    {
     "data": {
      "text/html": [
       "<div>\n",
       "<style scoped>\n",
       "    .dataframe tbody tr th:only-of-type {\n",
       "        vertical-align: middle;\n",
       "    }\n",
       "\n",
       "    .dataframe tbody tr th {\n",
       "        vertical-align: top;\n",
       "    }\n",
       "\n",
       "    .dataframe thead th {\n",
       "        text-align: right;\n",
       "    }\n",
       "</style>\n",
       "<table border=\"1\" class=\"dataframe\">\n",
       "  <thead>\n",
       "    <tr style=\"text-align: right;\">\n",
       "      <th></th>\n",
       "      <th>production date</th>\n",
       "      <th>oil_bbl</th>\n",
       "      <th>gas_mcf</th>\n",
       "      <th>eff_decline_oil</th>\n",
       "      <th>eff_decline_gas</th>\n",
       "      <th>time</th>\n",
       "    </tr>\n",
       "  </thead>\n",
       "  <tbody>\n",
       "    <tr>\n",
       "      <th>0</th>\n",
       "      <td>1959-05-31 00:00:00</td>\n",
       "      <td>3533.0</td>\n",
       "      <td>0.0</td>\n",
       "      <td>0.258241</td>\n",
       "      <td>1.000000</td>\n",
       "      <td>0</td>\n",
       "    </tr>\n",
       "    <tr>\n",
       "      <th>1</th>\n",
       "      <td>1959-06-30 00:00:00</td>\n",
       "      <td>4763.0</td>\n",
       "      <td>0.0</td>\n",
       "      <td>-0.000000</td>\n",
       "      <td>1.000000</td>\n",
       "      <td>1</td>\n",
       "    </tr>\n",
       "    <tr>\n",
       "      <th>2</th>\n",
       "      <td>1959-07-31 00:00:00</td>\n",
       "      <td>4475.0</td>\n",
       "      <td>1570.0</td>\n",
       "      <td>0.060466</td>\n",
       "      <td>-0.000000</td>\n",
       "      <td>2</td>\n",
       "    </tr>\n",
       "    <tr>\n",
       "      <th>3</th>\n",
       "      <td>1959-08-31 00:00:00</td>\n",
       "      <td>2620.0</td>\n",
       "      <td>917.0</td>\n",
       "      <td>0.449927</td>\n",
       "      <td>0.415924</td>\n",
       "      <td>3</td>\n",
       "    </tr>\n",
       "    <tr>\n",
       "      <th>4</th>\n",
       "      <td>1959-09-30 00:00:00</td>\n",
       "      <td>3531.0</td>\n",
       "      <td>1236.0</td>\n",
       "      <td>0.258661</td>\n",
       "      <td>0.212739</td>\n",
       "      <td>4</td>\n",
       "    </tr>\n",
       "  </tbody>\n",
       "</table>\n",
       "</div>"
      ],
      "text/plain": [
       "       production date  oil_bbl  gas_mcf  eff_decline_oil  eff_decline_gas  \\\n",
       "0  1959-05-31 00:00:00   3533.0      0.0         0.258241         1.000000   \n",
       "1  1959-06-30 00:00:00   4763.0      0.0        -0.000000         1.000000   \n",
       "2  1959-07-31 00:00:00   4475.0   1570.0         0.060466        -0.000000   \n",
       "3  1959-08-31 00:00:00   2620.0    917.0         0.449927         0.415924   \n",
       "4  1959-09-30 00:00:00   3531.0   1236.0         0.258661         0.212739   \n",
       "\n",
       "   time  \n",
       "0     0  \n",
       "1     1  \n",
       "2     2  \n",
       "3     3  \n",
       "4     4  "
      ]
     },
     "execution_count": 13,
     "metadata": {},
     "output_type": "execute_result"
    }
   ],
   "source": [
    "well_data.head()"
   ]
  },
  {
   "cell_type": "code",
   "execution_count": 14,
   "metadata": {},
   "outputs": [],
   "source": [
    "def plot_oil(b_value=0.5, initial_decline_rate=0.15):\n",
    "    well_data['type_curve_oil'] = qi_oil*((1 + b_value*initial_decline_rate*well_data.time)**(-1/b_value))\n",
    "    well_data.type_curve_oil.astype('int')\n",
    "    well_data.fillna(value=0, inplace=True)\n",
    "    well_data.loc[well_data.type_curve_oil > qi_oil] = qi_oil\n",
    "\n",
    "    fig, axes = plt.subplots( figsize=(12, 6))\n",
    "\n",
    "    axes.plot(well_data.time, well_data.type_curve_oil, 'k--', lw =2, label='Type Curve')\n",
    "    axes.plot(well_data.time, well_data.oil_bbl, 'r', label='Historical Production')\n",
    "    axes.legend(loc=1);\n",
    "    axes.grid(True)\n",
    "    axes.set_xlabel('Time (Days)')\n",
    "    axes.set_ylabel('Oil Rate (BPD)')\n",
    "    axes.set_title('Oil Type Curve');\n",
    "\n",
    "def plot_gas(b_value=0.5, initial_decline_rate=0.15):\n",
    "    well_data['type_curve_gas'] = qi_gas*((1 + b_value*initial_decline_rate*well_data.time)**(-1/b_value))\n",
    "    well_data.type_curve_gas.astype('int')\n",
    "    well_data.fillna(value=0, inplace=True)\n",
    "    well_data.loc[well_data.type_curve_gas > qi_gas] = qi_gas\n",
    "    \n",
    "    fig, axes = plt.subplots(figsize=(12, 6))\n",
    "\n",
    "    axes.plot(well_data.time, well_data.type_curve_gas, 'k--', lw=2, label='Type Curve')\n",
    "    axes.plot(well_data.time, well_data.gas_mcf, 'g', label='Historical Production')\n",
    "    axes.legend(loc=1);\n",
    "    axes.grid(True)\n",
    "    axes.set_xlabel('Time (Days)')\n",
    "    axes.set_ylabel('Gas Rate (MCFD)')\n",
    "    axes.set_title('Oil Type Curve');"
   ]
  },
  {
   "cell_type": "markdown",
   "metadata": {},
   "source": [
    "### Plot production with type curves"
   ]
  },
  {
   "cell_type": "code",
   "execution_count": 15,
   "metadata": {},
   "outputs": [],
   "source": [
    "import matplotlib\n",
    "import matplotlib.pyplot as plt\n",
    "%matplotlib inline"
   ]
  },
  {
   "cell_type": "code",
   "execution_count": 16,
   "metadata": {},
   "outputs": [
    {
     "data": {
      "application/vnd.jupyter.widget-view+json": {
       "model_id": "3458f1077fd241b6a4119382c20758ae",
       "version_major": 2,
       "version_minor": 0
      },
      "text/plain": [
       "interactive(children=(FloatSlider(value=0.5, description='b_value', max=1.0, step=0.01), FloatSlider(value=0.1…"
      ]
     },
     "metadata": {},
     "output_type": "display_data"
    }
   ],
   "source": [
    "interact_oil = interact(plot_oil, b_value= (0, 1, 0.01), initial_decline_rate= (0, 1, 0.01))"
   ]
  },
  {
   "cell_type": "markdown",
   "metadata": {},
   "source": [
    "## To-do\n",
    "\n",
    "* add multiline segment functionality\n",
    "* add optimized solution by minimizing the error"
   ]
  },
  {
   "cell_type": "code",
   "execution_count": null,
   "metadata": {},
   "outputs": [],
   "source": []
  }
 ],
 "metadata": {
  "kernelspec": {
   "display_name": "Python 3",
   "language": "python",
   "name": "python3"
  },
  "language_info": {
   "codemirror_mode": {
    "name": "ipython",
    "version": 3
   },
   "file_extension": ".py",
   "mimetype": "text/x-python",
   "name": "python",
   "nbconvert_exporter": "python",
   "pygments_lexer": "ipython3",
   "version": "3.6.5"
  }
 },
 "nbformat": 4,
 "nbformat_minor": 2
}
