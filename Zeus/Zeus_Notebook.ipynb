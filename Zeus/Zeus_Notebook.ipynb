{
 "cells": [
  {
   "cell_type": "markdown",
   "metadata": {},
   "source": [
    "# Project Zeus\n",
    "## Created by Michael Wentz"
   ]
  },
  {
   "cell_type": "markdown",
   "metadata": {},
   "source": [
    "### Import Modules"
   ]
  },
  {
   "cell_type": "code",
   "execution_count": null,
   "metadata": {},
   "outputs": [],
   "source": [
    "import numpy as np\n",
    "import pandas as pd\n",
    "import math\n",
    "\n",
    "from bokeh.io import show, output_notebook, push_notebook\n",
    "from bokeh.layouts import widgetbox\n",
    "from bokeh.models import LinearAxis, Range1d, DataRange1d, NumeralTickFormatter\n",
    "from bokeh.plotting import figure\n",
    "from bokeh.models.widgets import Slider, RadioButtonGroup\n",
    "from ipywidgets import interactive"
   ]
  },
  {
   "cell_type": "markdown",
   "metadata": {},
   "source": [
    "### Load production data from excel file"
   ]
  },
  {
   "cell_type": "code",
   "execution_count": null,
   "metadata": {},
   "outputs": [],
   "source": [
    "file = 'https://raw.githubusercontent.com/mwentzWW/petrolpy/master/Zeus/Sample_Production/Sample_Prod_Data.xlsx'\n",
    "well_data = pd.read_excel(file)\n",
    "well_data.columns = [c.lower() for c in well_data.columns]\n",
    "well_data.info()"
   ]
  },
  {
   "cell_type": "markdown",
   "metadata": {},
   "source": [
    "### Check Data Layout"
   ]
  },
  {
   "cell_type": "code",
   "execution_count": null,
   "metadata": {},
   "outputs": [],
   "source": [
    "well_data.head()"
   ]
  },
  {
   "cell_type": "markdown",
   "metadata": {},
   "source": [
    "### Delete API because there is only one well, and we don't need water"
   ]
  },
  {
   "cell_type": "code",
   "execution_count": null,
   "metadata": {},
   "outputs": [],
   "source": [
    "well_data.drop(columns=['api number', 'water_bbl'], inplace=True)\n",
    "well_data.head()"
   ]
  },
  {
   "cell_type": "markdown",
   "metadata": {},
   "source": [
    "### Replace NaN with zeros for computations"
   ]
  },
  {
   "cell_type": "code",
   "execution_count": null,
   "metadata": {},
   "outputs": [],
   "source": [
    "well_data.fillna(value=0, inplace=True)"
   ]
  },
  {
   "cell_type": "markdown",
   "metadata": {},
   "source": [
    "### Normalize data by time"
   ]
  },
  {
   "cell_type": "code",
   "execution_count": null,
   "metadata": {},
   "outputs": [],
   "source": [
    "num_months = len(well_data['oil_bbl'])\n",
    "num_months"
   ]
  },
  {
   "cell_type": "code",
   "execution_count": null,
   "metadata": {},
   "outputs": [],
   "source": [
    "months = []\n",
    "for x in range(0, num_months):\n",
    "    months.append(x)\n",
    "months[0:10]"
   ]
  },
  {
   "cell_type": "code",
   "execution_count": null,
   "metadata": {},
   "outputs": [],
   "source": [
    "well_data['time'] = months\n",
    "print(well_data.head())"
   ]
  },
  {
   "cell_type": "markdown",
   "metadata": {},
   "source": [
    "### Calculate the type curve for oil and gas, assume b = 0.5 (will adjust later), use first 30 day average decline for di"
   ]
  },
  {
   "cell_type": "code",
   "execution_count": null,
   "metadata": {},
   "outputs": [],
   "source": [
    "print(well_data.head())"
   ]
  },
  {
   "cell_type": "code",
   "execution_count": null,
   "metadata": {},
   "outputs": [],
   "source": [
    "print(well_data.loc[[3], ('gas_mcf')])"
   ]
  },
  {
   "cell_type": "code",
   "execution_count": null,
   "metadata": {},
   "outputs": [],
   "source": [
    "def plot_oil(qi_oil= well_data.oil_bbl.max(), b_value=0.8, initial_decline_rate=15, start_of_exp=well_data.time.max(), exp_yes_no=False, exp_decline_rate=10):\n",
    "    # Decline rates are input as annual whole numbers, then converted to decimal monthly numbers\n",
    "    initial_decline_rate = (initial_decline_rate/100)/12\n",
    "    exp_decline_rate = (exp_decline_rate/100)/12\n",
    "    \n",
    "    well_data['type_curve_oil'] = qi_oil*((1 + b_value*initial_decline_rate*well_data.time)**(-1/b_value))\n",
    "    if exp_yes_no == True:\n",
    "        start_of_exp = int(start_of_exp)\n",
    "        well_data['type_curve_expon'] = well_data.loc[start_of_exp, ('type_curve_oil')]*2.71828**(-exp_decline_rate*(well_data.time-start_of_exp))\n",
    "        well_data.loc[start_of_exp:, ('type_curve_oil')] = 0\n",
    "        well_data.loc[0:start_of_exp-1, ('type_curve_expon')] = 0\n",
    "        connector = well_data.loc[start_of_exp, ('type_curve_expon')]\n",
    "        well_data.type_curve_oil = well_data.type_curve_oil + well_data.type_curve_expon\n",
    "        well_data.type_curve_expon.astype('float')\n",
    "    well_data.type_curve_oil.astype('float')\n",
    "    well_data.fillna(value=0, inplace=True)\n",
    "    well_data.loc[well_data.type_curve_oil > qi_oil] = qi_oil\n",
    "    \n",
    "    p = figure(title= 'Oil Type Curve', y_axis_type='log')\n",
    "    p.line(well_data.time, well_data.oil_bbl, line_color= 'green', line_width= 2, legend= 'Oil Production')\n",
    "    p.line(well_data.time, well_data.type_curve_oil, line_color= 'black', line_width= 2, line_dash= 'dashed', legend= 'Curve Fit')\n",
    "    \n",
    "    \n",
    "    \n",
    "    p.yaxis.axis_label = 'BOPM'\n",
    "    p.xaxis.axis_label = 'MONTH'\n",
    "    p.y_range.start = 10\n",
    "    p.yaxis[0].formatter = NumeralTickFormatter(format=\"0,0\")\n",
    "    p.xaxis[0].formatter = NumeralTickFormatter(format=\"0,0\")\n",
    "    p.title.align = 'center'\n",
    "    \n",
    "    \n",
    "    show(p, notebook_handle=True)\n",
    "\n",
    "\n",
    "def plot_gas(qi_gas= 1000, b_value=0.8, initial_decline_rate=0.15):\n",
    "    well_data['type_curve_gas'] = qi_gas*((1 + b_value*initial_decline_rate*well_data.time)**(-1/b_value))\n",
    "    well_data.type_curve_gas.astype('int')\n",
    "    well_data.fillna(value=0, inplace=True)\n",
    "    well_data.loc[well_data.type_curve_gas > qi_gas] = qi_gas\n",
    "    \n"
   ]
  },
  {
   "cell_type": "markdown",
   "metadata": {},
   "source": [
    "### Plot production with type curves"
   ]
  },
  {
   "cell_type": "code",
   "execution_count": null,
   "metadata": {},
   "outputs": [],
   "source": [
    "output_notebook()"
   ]
  },
  {
   "cell_type": "code",
   "execution_count": null,
   "metadata": {},
   "outputs": [],
   "source": [
    "def update(b_value, initial_decline_rate, start_of_exp, exp_yes_no, exp_decline_rate):\n",
    "    plot_oil(qi_oil= well_data.oil_bbl.max(), b_value=b_value, initial_decline_rate=initial_decline_rate, start_of_exp=start_of_exp, exp_yes_no=exp_yes_no, exp_decline_rate=exp_decline_rate)\n",
    "    push_notebook()"
   ]
  },
  {
   "cell_type": "code",
   "execution_count": null,
   "metadata": {},
   "outputs": [],
   "source": [
    "interactive_plot = interactive(update, b_value= (0, 2, 0.01), initial_decline_rate= (0, 150), exp_yes_no = False, start_of_exp= (1, well_data.time.max(), 1), exp_decline_rate=(0, 20));\n",
    "output = interactive_plot.children[-1]\n",
    "output.layout.height = '400px'\n",
    "interactive_plot"
   ]
  },
  {
   "cell_type": "code",
   "execution_count": null,
   "metadata": {},
   "outputs": [],
   "source": [
    "print(well_data)"
   ]
  },
  {
   "cell_type": "markdown",
   "metadata": {},
   "source": [
    "## To-do\n",
    "\n",
    "* add optimized solution by minimizing the error"
   ]
  },
  {
   "cell_type": "code",
   "execution_count": null,
   "metadata": {},
   "outputs": [],
   "source": []
  }
 ],
 "metadata": {
  "kernelspec": {
   "display_name": "Python 3",
   "language": "python",
   "name": "python3"
  },
  "language_info": {
   "codemirror_mode": {
    "name": "ipython",
    "version": 3
   },
   "file_extension": ".py",
   "mimetype": "text/x-python",
   "name": "python",
   "nbconvert_exporter": "python",
   "pygments_lexer": "ipython3",
   "version": "3.7.3"
  }
 },
 "nbformat": 4,
 "nbformat_minor": 2
}
