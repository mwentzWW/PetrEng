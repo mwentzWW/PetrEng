{
 "cells": [
  {
   "cell_type": "markdown",
   "metadata": {},
   "source": [
    "# Project Zeus\n",
    "## Created by Michael Wentz"
   ]
  },
  {
   "cell_type": "markdown",
   "metadata": {},
   "source": [
    "### Import Modules"
   ]
  },
  {
   "cell_type": "code",
   "execution_count": 1,
   "metadata": {},
   "outputs": [],
   "source": [
    "import numpy as np\n",
    "import pandas as pd\n",
    "import math\n",
    "from ipywidgets import interact, interactive, fixed, interact_manual, VBox, FloatSlider\n",
    "import ipywidgets as widgets"
   ]
  },
  {
   "cell_type": "markdown",
   "metadata": {},
   "source": [
    "### Load production data from excel file"
   ]
  },
  {
   "cell_type": "code",
   "execution_count": 2,
   "metadata": {},
   "outputs": [
    {
     "name": "stdout",
     "output_type": "stream",
     "text": [
      "<class 'pandas.core.frame.DataFrame'>\n",
      "RangeIndex: 704 entries, 0 to 703\n",
      "Data columns (total 5 columns):\n",
      "api number         704 non-null object\n",
      "production date    704 non-null datetime64[ns]\n",
      "oil_bbl            694 non-null float64\n",
      "gas_mcf            694 non-null float64\n",
      "water_bbl          693 non-null float64\n",
      "dtypes: datetime64[ns](1), float64(3), object(1)\n",
      "memory usage: 27.6+ KB\n"
     ]
    }
   ],
   "source": [
    "file = 'https://raw.githubusercontent.com/mwentzWW/petrolpy/master/Zeus/Sample_Production/Sample_Prod_Data.xlsx'\n",
    "well_data = pd.read_excel(file)\n",
    "well_data.columns = [c.lower() for c in well_data.columns]\n",
    "well_data.info()"
   ]
  },
  {
   "cell_type": "markdown",
   "metadata": {},
   "source": [
    "### Check Data Layout"
   ]
  },
  {
   "cell_type": "code",
   "execution_count": 15,
   "metadata": {},
   "outputs": [
    {
     "name": "stdout",
     "output_type": "stream",
     "text": [
      "  production date  oil_bbl  gas_mcf  time\n",
      "0      1959-05-31   3533.0      0.0     0\n",
      "1      1959-06-30   4763.0      0.0     1\n",
      "2      1959-07-31   4475.0   1570.0     2\n",
      "3      1959-08-31   2620.0    917.0     3\n",
      "4      1959-09-30   3531.0   1236.0     4\n"
     ]
    }
   ],
   "source": [
    "print(well_data.head())"
   ]
  },
  {
   "cell_type": "markdown",
   "metadata": {},
   "source": [
    "### Delete API because there is only one well, and we don't need water"
   ]
  },
  {
   "cell_type": "code",
   "execution_count": 16,
   "metadata": {},
   "outputs": [
    {
     "ename": "KeyError",
     "evalue": "\"labels ['api number' 'water_bbl'] not contained in axis\"",
     "output_type": "error",
     "traceback": [
      "\u001b[1;31m---------------------------------------------------------------------------\u001b[0m",
      "\u001b[1;31mKeyError\u001b[0m                                  Traceback (most recent call last)",
      "\u001b[1;32m<ipython-input-16-a9e689ba3509>\u001b[0m in \u001b[0;36m<module>\u001b[1;34m()\u001b[0m\n\u001b[1;32m----> 1\u001b[1;33m \u001b[0mwell_data\u001b[0m\u001b[1;33m.\u001b[0m\u001b[0mdrop\u001b[0m\u001b[1;33m(\u001b[0m\u001b[0mcolumns\u001b[0m\u001b[1;33m=\u001b[0m\u001b[1;33m[\u001b[0m\u001b[1;34m'api number'\u001b[0m\u001b[1;33m,\u001b[0m \u001b[1;34m'water_bbl'\u001b[0m\u001b[1;33m]\u001b[0m\u001b[1;33m,\u001b[0m \u001b[0minplace\u001b[0m\u001b[1;33m=\u001b[0m\u001b[1;32mTrue\u001b[0m\u001b[1;33m)\u001b[0m\u001b[1;33m\u001b[0m\u001b[0m\n\u001b[0m\u001b[0;32m      2\u001b[0m \u001b[0mprint\u001b[0m\u001b[1;33m(\u001b[0m\u001b[0mwell_data\u001b[0m\u001b[1;33m.\u001b[0m\u001b[0mhead\u001b[0m\u001b[1;33m(\u001b[0m\u001b[1;33m)\u001b[0m\u001b[1;33m)\u001b[0m\u001b[1;33m\u001b[0m\u001b[0m\n",
      "\u001b[1;32m~\\Anaconda\\lib\\site-packages\\pandas\\core\\frame.py\u001b[0m in \u001b[0;36mdrop\u001b[1;34m(self, labels, axis, index, columns, level, inplace, errors)\u001b[0m\n\u001b[0;32m   3692\u001b[0m                                            \u001b[0mindex\u001b[0m\u001b[1;33m=\u001b[0m\u001b[0mindex\u001b[0m\u001b[1;33m,\u001b[0m \u001b[0mcolumns\u001b[0m\u001b[1;33m=\u001b[0m\u001b[0mcolumns\u001b[0m\u001b[1;33m,\u001b[0m\u001b[1;33m\u001b[0m\u001b[0m\n\u001b[0;32m   3693\u001b[0m                                            \u001b[0mlevel\u001b[0m\u001b[1;33m=\u001b[0m\u001b[0mlevel\u001b[0m\u001b[1;33m,\u001b[0m \u001b[0minplace\u001b[0m\u001b[1;33m=\u001b[0m\u001b[0minplace\u001b[0m\u001b[1;33m,\u001b[0m\u001b[1;33m\u001b[0m\u001b[0m\n\u001b[1;32m-> 3694\u001b[1;33m                                            errors=errors)\n\u001b[0m\u001b[0;32m   3695\u001b[0m \u001b[1;33m\u001b[0m\u001b[0m\n\u001b[0;32m   3696\u001b[0m     @rewrite_axis_style_signature('mapper', [('copy', True),\n",
      "\u001b[1;32m~\\Anaconda\\lib\\site-packages\\pandas\\core\\generic.py\u001b[0m in \u001b[0;36mdrop\u001b[1;34m(self, labels, axis, index, columns, level, inplace, errors)\u001b[0m\n\u001b[0;32m   3106\u001b[0m         \u001b[1;32mfor\u001b[0m \u001b[0maxis\u001b[0m\u001b[1;33m,\u001b[0m \u001b[0mlabels\u001b[0m \u001b[1;32min\u001b[0m \u001b[0maxes\u001b[0m\u001b[1;33m.\u001b[0m\u001b[0mitems\u001b[0m\u001b[1;33m(\u001b[0m\u001b[1;33m)\u001b[0m\u001b[1;33m:\u001b[0m\u001b[1;33m\u001b[0m\u001b[0m\n\u001b[0;32m   3107\u001b[0m             \u001b[1;32mif\u001b[0m \u001b[0mlabels\u001b[0m \u001b[1;32mis\u001b[0m \u001b[1;32mnot\u001b[0m \u001b[1;32mNone\u001b[0m\u001b[1;33m:\u001b[0m\u001b[1;33m\u001b[0m\u001b[0m\n\u001b[1;32m-> 3108\u001b[1;33m                 \u001b[0mobj\u001b[0m \u001b[1;33m=\u001b[0m \u001b[0mobj\u001b[0m\u001b[1;33m.\u001b[0m\u001b[0m_drop_axis\u001b[0m\u001b[1;33m(\u001b[0m\u001b[0mlabels\u001b[0m\u001b[1;33m,\u001b[0m \u001b[0maxis\u001b[0m\u001b[1;33m,\u001b[0m \u001b[0mlevel\u001b[0m\u001b[1;33m=\u001b[0m\u001b[0mlevel\u001b[0m\u001b[1;33m,\u001b[0m \u001b[0merrors\u001b[0m\u001b[1;33m=\u001b[0m\u001b[0merrors\u001b[0m\u001b[1;33m)\u001b[0m\u001b[1;33m\u001b[0m\u001b[0m\n\u001b[0m\u001b[0;32m   3109\u001b[0m \u001b[1;33m\u001b[0m\u001b[0m\n\u001b[0;32m   3110\u001b[0m         \u001b[1;32mif\u001b[0m \u001b[0minplace\u001b[0m\u001b[1;33m:\u001b[0m\u001b[1;33m\u001b[0m\u001b[0m\n",
      "\u001b[1;32m~\\Anaconda\\lib\\site-packages\\pandas\\core\\generic.py\u001b[0m in \u001b[0;36m_drop_axis\u001b[1;34m(self, labels, axis, level, errors)\u001b[0m\n\u001b[0;32m   3138\u001b[0m                 \u001b[0mnew_axis\u001b[0m \u001b[1;33m=\u001b[0m \u001b[0maxis\u001b[0m\u001b[1;33m.\u001b[0m\u001b[0mdrop\u001b[0m\u001b[1;33m(\u001b[0m\u001b[0mlabels\u001b[0m\u001b[1;33m,\u001b[0m \u001b[0mlevel\u001b[0m\u001b[1;33m=\u001b[0m\u001b[0mlevel\u001b[0m\u001b[1;33m,\u001b[0m \u001b[0merrors\u001b[0m\u001b[1;33m=\u001b[0m\u001b[0merrors\u001b[0m\u001b[1;33m)\u001b[0m\u001b[1;33m\u001b[0m\u001b[0m\n\u001b[0;32m   3139\u001b[0m             \u001b[1;32melse\u001b[0m\u001b[1;33m:\u001b[0m\u001b[1;33m\u001b[0m\u001b[0m\n\u001b[1;32m-> 3140\u001b[1;33m                 \u001b[0mnew_axis\u001b[0m \u001b[1;33m=\u001b[0m \u001b[0maxis\u001b[0m\u001b[1;33m.\u001b[0m\u001b[0mdrop\u001b[0m\u001b[1;33m(\u001b[0m\u001b[0mlabels\u001b[0m\u001b[1;33m,\u001b[0m \u001b[0merrors\u001b[0m\u001b[1;33m=\u001b[0m\u001b[0merrors\u001b[0m\u001b[1;33m)\u001b[0m\u001b[1;33m\u001b[0m\u001b[0m\n\u001b[0m\u001b[0;32m   3141\u001b[0m             \u001b[0mdropped\u001b[0m \u001b[1;33m=\u001b[0m \u001b[0mself\u001b[0m\u001b[1;33m.\u001b[0m\u001b[0mreindex\u001b[0m\u001b[1;33m(\u001b[0m\u001b[1;33m**\u001b[0m\u001b[1;33m{\u001b[0m\u001b[0maxis_name\u001b[0m\u001b[1;33m:\u001b[0m \u001b[0mnew_axis\u001b[0m\u001b[1;33m}\u001b[0m\u001b[1;33m)\u001b[0m\u001b[1;33m\u001b[0m\u001b[0m\n\u001b[0;32m   3142\u001b[0m             \u001b[1;32mtry\u001b[0m\u001b[1;33m:\u001b[0m\u001b[1;33m\u001b[0m\u001b[0m\n",
      "\u001b[1;32m~\\Anaconda\\lib\\site-packages\\pandas\\core\\indexes\\base.py\u001b[0m in \u001b[0;36mdrop\u001b[1;34m(self, labels, errors)\u001b[0m\n\u001b[0;32m   4385\u001b[0m             \u001b[1;32mif\u001b[0m \u001b[0merrors\u001b[0m \u001b[1;33m!=\u001b[0m \u001b[1;34m'ignore'\u001b[0m\u001b[1;33m:\u001b[0m\u001b[1;33m\u001b[0m\u001b[0m\n\u001b[0;32m   4386\u001b[0m                 raise KeyError(\n\u001b[1;32m-> 4387\u001b[1;33m                     'labels %s not contained in axis' % labels[mask])\n\u001b[0m\u001b[0;32m   4388\u001b[0m             \u001b[0mindexer\u001b[0m \u001b[1;33m=\u001b[0m \u001b[0mindexer\u001b[0m\u001b[1;33m[\u001b[0m\u001b[1;33m~\u001b[0m\u001b[0mmask\u001b[0m\u001b[1;33m]\u001b[0m\u001b[1;33m\u001b[0m\u001b[0m\n\u001b[0;32m   4389\u001b[0m         \u001b[1;32mreturn\u001b[0m \u001b[0mself\u001b[0m\u001b[1;33m.\u001b[0m\u001b[0mdelete\u001b[0m\u001b[1;33m(\u001b[0m\u001b[0mindexer\u001b[0m\u001b[1;33m)\u001b[0m\u001b[1;33m\u001b[0m\u001b[0m\n",
      "\u001b[1;31mKeyError\u001b[0m: \"labels ['api number' 'water_bbl'] not contained in axis\""
     ]
    }
   ],
   "source": [
    "well_data.drop(columns=['api number', 'water_bbl'], inplace=True)\n",
    "print(well_data.head())"
   ]
  },
  {
   "cell_type": "markdown",
   "metadata": {},
   "source": [
    "### Replace NaN with zeros for computations"
   ]
  },
  {
   "cell_type": "code",
   "execution_count": 5,
   "metadata": {},
   "outputs": [],
   "source": [
    "well_data.fillna(value=0, inplace=True)"
   ]
  },
  {
   "cell_type": "markdown",
   "metadata": {},
   "source": [
    "### Normalize data by time"
   ]
  },
  {
   "cell_type": "code",
   "execution_count": 6,
   "metadata": {},
   "outputs": [
    {
     "data": {
      "text/plain": [
       "704"
      ]
     },
     "execution_count": 6,
     "metadata": {},
     "output_type": "execute_result"
    }
   ],
   "source": [
    "num_days_online = len(well_data['oil_bbl'])\n",
    "num_days_online"
   ]
  },
  {
   "cell_type": "code",
   "execution_count": 7,
   "metadata": {},
   "outputs": [
    {
     "data": {
      "text/plain": [
       "[0, 1, 2, 3, 4, 5, 6, 7, 8, 9]"
      ]
     },
     "execution_count": 7,
     "metadata": {},
     "output_type": "execute_result"
    }
   ],
   "source": [
    "days = []\n",
    "for day in range(0, num_days_online):\n",
    "    days.append(day)\n",
    "days[0:10]"
   ]
  },
  {
   "cell_type": "code",
   "execution_count": 17,
   "metadata": {},
   "outputs": [
    {
     "name": "stdout",
     "output_type": "stream",
     "text": [
      "  production date  oil_bbl  gas_mcf  time\n",
      "0      1959-05-31   3533.0      0.0     0\n",
      "1      1959-06-30   4763.0      0.0     1\n",
      "2      1959-07-31   4475.0   1570.0     2\n",
      "3      1959-08-31   2620.0    917.0     3\n",
      "4      1959-09-30   3531.0   1236.0     4\n"
     ]
    }
   ],
   "source": [
    "well_data['time'] = days\n",
    "print(well_data.head())"
   ]
  },
  {
   "cell_type": "markdown",
   "metadata": {},
   "source": [
    "### Calculate the type curve for oil and gas, assume b = 0.5 (will adjust later), use first 30 day average decline for di"
   ]
  },
  {
   "cell_type": "code",
   "execution_count": 9,
   "metadata": {},
   "outputs": [
    {
     "name": "stdout",
     "output_type": "stream",
     "text": [
      "  production date  oil_bbl  gas_mcf  time\n",
      "0      1959-05-31   3533.0      0.0     0\n",
      "1      1959-06-30   4763.0      0.0     1\n",
      "2      1959-07-31   4475.0   1570.0     2\n",
      "3      1959-08-31   2620.0    917.0     3\n",
      "4      1959-09-30   3531.0   1236.0     4\n"
     ]
    }
   ],
   "source": [
    "print(well_data.head())"
   ]
  },
  {
   "cell_type": "code",
   "execution_count": 10,
   "metadata": {},
   "outputs": [
    {
     "name": "stdout",
     "output_type": "stream",
     "text": [
      "3    917.0\n",
      "Name: gas_mcf, dtype: float64\n"
     ]
    }
   ],
   "source": [
    "print(well_data.loc[[3], ('gas_mcf')])"
   ]
  },
  {
   "cell_type": "code",
   "execution_count": 11,
   "metadata": {},
   "outputs": [],
   "source": [
    "def plot_oil(b_value=0.8, initial_decline_rate=0.15, start_of_exp=well_data.time.max(), exp_yes_no=False, exp_decline_rate=0.10):\n",
    "    well_data['type_curve_oil'] = qi_oil*((1 + b_value*initial_decline_rate*well_data.time)**(-1/b_value))\n",
    "    if exp_yes_no == True:\n",
    "        start_of_exp = int(start_of_exp)\n",
    "        well_data['type_curve_expon'] = well_data.loc[start_of_exp, ('type_curve_oil')]*2.71828**(-exp_decline_rate*(well_data.time-start_of_exp))\n",
    "        well_data.loc[start_of_exp:, ('type_curve_oil')] = 0\n",
    "        well_data.loc[0:start_of_exp-1, ('type_curve_expon')] = 0\n",
    "        connector = well_data.loc[start_of_exp, ('type_curve_expon')]\n",
    "        well_data.type_curve_oil = well_data.type_curve_oil + well_data.type_curve_expon\n",
    "        well_data.type_curve_expon.astype('float')\n",
    "    well_data.type_curve_oil.astype('float')\n",
    "    well_data.fillna(value=0, inplace=True)\n",
    "    well_data.loc[well_data.type_curve_oil > qi_oil] = qi_oil\n",
    "\n",
    "    fig, axes = plt.subplots( figsize=(14, 8))\n",
    "\n",
    "    axes.plot(well_data.time, well_data.type_curve_oil, 'k--', lw =2, label='Type Curve')\n",
    "    axes.plot(well_data.time, well_data.oil_bbl, 'r', label='Historical Production')\n",
    "    if exp_yes_no == True:    \n",
    "        axes.plot(start_of_exp, connector, 'bx', label='Exponential Decline')\n",
    "    axes.legend(loc=1);\n",
    "    axes.grid(True)\n",
    "    axes.set_xlabel('Time (Months)')\n",
    "    axes.set_ylabel('Oil Rate (Barrels per Month)')\n",
    "    axes.set_title('Oil Type Curve')\n",
    "    plt.yscale('log')\n",
    "    plt.ylim(ymin=1, ymax=5000);\n",
    "\n",
    "def plot_gas(b_value=0.8, initial_decline_rate=0.15):\n",
    "    well_data['type_curve_gas'] = qi_gas*((1 + b_value*initial_decline_rate*well_data.time)**(-1/b_value))\n",
    "    well_data.type_curve_gas.astype('int')\n",
    "    well_data.fillna(value=0, inplace=True)\n",
    "    well_data.loc[well_data.type_curve_gas > qi_gas] = qi_gas\n",
    "    \n",
    "    fig, axes = plt.subplots(figsize=(14, 8))\n",
    "\n",
    "    axes.plot(well_data.time, well_data.type_curve_gas, 'k--', lw=2, label='Type Curve')\n",
    "    axes.plot(well_data.time, well_data.gas_mcf, 'g', label='Historical Production')\n",
    "    axes.legend(loc=1);\n",
    "    axes.grid(True)\n",
    "    axes.set_xlabel('Time (Months)')\n",
    "    axes.set_ylabel('Gas Rate (MCF per Month)')\n",
    "    axes.set_title('Gas Type Curve')\n",
    "    plt.yscale('log')\n",
    "    plt.ylim(ymin=1, ymax=10000);"
   ]
  },
  {
   "cell_type": "markdown",
   "metadata": {},
   "source": [
    "### Plot production with type curves"
   ]
  },
  {
   "cell_type": "code",
   "execution_count": 19,
   "metadata": {},
   "outputs": [],
   "source": [
    "import matplotlib\n",
    "import matplotlib.pyplot as plt\n",
    "%matplotlib inline"
   ]
  },
  {
   "cell_type": "code",
   "execution_count": 20,
   "metadata": {},
   "outputs": [
    {
     "ename": "NameError",
     "evalue": "name 'qi_oil' is not defined",
     "output_type": "error",
     "traceback": [
      "\u001b[1;31m---------------------------------------------------------------------------\u001b[0m",
      "\u001b[1;31mNameError\u001b[0m                                 Traceback (most recent call last)",
      "\u001b[1;32m~\\Anaconda\\lib\\site-packages\\ipywidgets\\widgets\\interaction.py\u001b[0m in \u001b[0;36mupdate\u001b[1;34m(self, *args)\u001b[0m\n\u001b[0;32m    249\u001b[0m                     \u001b[0mvalue\u001b[0m \u001b[1;33m=\u001b[0m \u001b[0mwidget\u001b[0m\u001b[1;33m.\u001b[0m\u001b[0mget_interact_value\u001b[0m\u001b[1;33m(\u001b[0m\u001b[1;33m)\u001b[0m\u001b[1;33m\u001b[0m\u001b[0m\n\u001b[0;32m    250\u001b[0m                     \u001b[0mself\u001b[0m\u001b[1;33m.\u001b[0m\u001b[0mkwargs\u001b[0m\u001b[1;33m[\u001b[0m\u001b[0mwidget\u001b[0m\u001b[1;33m.\u001b[0m\u001b[0m_kwarg\u001b[0m\u001b[1;33m]\u001b[0m \u001b[1;33m=\u001b[0m \u001b[0mvalue\u001b[0m\u001b[1;33m\u001b[0m\u001b[0m\n\u001b[1;32m--> 251\u001b[1;33m                 \u001b[0mself\u001b[0m\u001b[1;33m.\u001b[0m\u001b[0mresult\u001b[0m \u001b[1;33m=\u001b[0m \u001b[0mself\u001b[0m\u001b[1;33m.\u001b[0m\u001b[0mf\u001b[0m\u001b[1;33m(\u001b[0m\u001b[1;33m**\u001b[0m\u001b[0mself\u001b[0m\u001b[1;33m.\u001b[0m\u001b[0mkwargs\u001b[0m\u001b[1;33m)\u001b[0m\u001b[1;33m\u001b[0m\u001b[0m\n\u001b[0m\u001b[0;32m    252\u001b[0m                 \u001b[0mshow_inline_matplotlib_plots\u001b[0m\u001b[1;33m(\u001b[0m\u001b[1;33m)\u001b[0m\u001b[1;33m\u001b[0m\u001b[0m\n\u001b[0;32m    253\u001b[0m                 \u001b[1;32mif\u001b[0m \u001b[0mself\u001b[0m\u001b[1;33m.\u001b[0m\u001b[0mauto_display\u001b[0m \u001b[1;32mand\u001b[0m \u001b[0mself\u001b[0m\u001b[1;33m.\u001b[0m\u001b[0mresult\u001b[0m \u001b[1;32mis\u001b[0m \u001b[1;32mnot\u001b[0m \u001b[1;32mNone\u001b[0m\u001b[1;33m:\u001b[0m\u001b[1;33m\u001b[0m\u001b[0m\n",
      "\u001b[1;32m<ipython-input-11-0bceb683ea34>\u001b[0m in \u001b[0;36mplot_oil\u001b[1;34m(b_value, initial_decline_rate, start_of_exp, exp_yes_no, exp_decline_rate)\u001b[0m\n\u001b[0;32m      1\u001b[0m \u001b[1;32mdef\u001b[0m \u001b[0mplot_oil\u001b[0m\u001b[1;33m(\u001b[0m\u001b[0mb_value\u001b[0m\u001b[1;33m=\u001b[0m\u001b[1;36m0.8\u001b[0m\u001b[1;33m,\u001b[0m \u001b[0minitial_decline_rate\u001b[0m\u001b[1;33m=\u001b[0m\u001b[1;36m0.15\u001b[0m\u001b[1;33m,\u001b[0m \u001b[0mstart_of_exp\u001b[0m\u001b[1;33m=\u001b[0m\u001b[0mwell_data\u001b[0m\u001b[1;33m.\u001b[0m\u001b[0mtime\u001b[0m\u001b[1;33m.\u001b[0m\u001b[0mmax\u001b[0m\u001b[1;33m(\u001b[0m\u001b[1;33m)\u001b[0m\u001b[1;33m,\u001b[0m \u001b[0mexp_yes_no\u001b[0m\u001b[1;33m=\u001b[0m\u001b[1;32mFalse\u001b[0m\u001b[1;33m,\u001b[0m \u001b[0mexp_decline_rate\u001b[0m\u001b[1;33m=\u001b[0m\u001b[1;36m0.10\u001b[0m\u001b[1;33m)\u001b[0m\u001b[1;33m:\u001b[0m\u001b[1;33m\u001b[0m\u001b[0m\n\u001b[1;32m----> 2\u001b[1;33m     \u001b[0mwell_data\u001b[0m\u001b[1;33m[\u001b[0m\u001b[1;34m'type_curve_oil'\u001b[0m\u001b[1;33m]\u001b[0m \u001b[1;33m=\u001b[0m \u001b[0mqi_oil\u001b[0m\u001b[1;33m*\u001b[0m\u001b[1;33m(\u001b[0m\u001b[1;33m(\u001b[0m\u001b[1;36m1\u001b[0m \u001b[1;33m+\u001b[0m \u001b[0mb_value\u001b[0m\u001b[1;33m*\u001b[0m\u001b[0minitial_decline_rate\u001b[0m\u001b[1;33m*\u001b[0m\u001b[0mwell_data\u001b[0m\u001b[1;33m.\u001b[0m\u001b[0mtime\u001b[0m\u001b[1;33m)\u001b[0m\u001b[1;33m**\u001b[0m\u001b[1;33m(\u001b[0m\u001b[1;33m-\u001b[0m\u001b[1;36m1\u001b[0m\u001b[1;33m/\u001b[0m\u001b[0mb_value\u001b[0m\u001b[1;33m)\u001b[0m\u001b[1;33m)\u001b[0m\u001b[1;33m\u001b[0m\u001b[0m\n\u001b[0m\u001b[0;32m      3\u001b[0m     \u001b[1;32mif\u001b[0m \u001b[0mexp_yes_no\u001b[0m \u001b[1;33m==\u001b[0m \u001b[1;32mTrue\u001b[0m\u001b[1;33m:\u001b[0m\u001b[1;33m\u001b[0m\u001b[0m\n\u001b[0;32m      4\u001b[0m         \u001b[0mstart_of_exp\u001b[0m \u001b[1;33m=\u001b[0m \u001b[0mint\u001b[0m\u001b[1;33m(\u001b[0m\u001b[0mstart_of_exp\u001b[0m\u001b[1;33m)\u001b[0m\u001b[1;33m\u001b[0m\u001b[0m\n\u001b[0;32m      5\u001b[0m         \u001b[0mwell_data\u001b[0m\u001b[1;33m[\u001b[0m\u001b[1;34m'type_curve_expon'\u001b[0m\u001b[1;33m]\u001b[0m \u001b[1;33m=\u001b[0m \u001b[0mwell_data\u001b[0m\u001b[1;33m.\u001b[0m\u001b[0mloc\u001b[0m\u001b[1;33m[\u001b[0m\u001b[0mstart_of_exp\u001b[0m\u001b[1;33m,\u001b[0m \u001b[1;33m(\u001b[0m\u001b[1;34m'type_curve_oil'\u001b[0m\u001b[1;33m)\u001b[0m\u001b[1;33m]\u001b[0m\u001b[1;33m*\u001b[0m\u001b[1;36m2.71828\u001b[0m\u001b[1;33m**\u001b[0m\u001b[1;33m(\u001b[0m\u001b[1;33m-\u001b[0m\u001b[0mexp_decline_rate\u001b[0m\u001b[1;33m*\u001b[0m\u001b[1;33m(\u001b[0m\u001b[0mwell_data\u001b[0m\u001b[1;33m.\u001b[0m\u001b[0mtime\u001b[0m\u001b[1;33m-\u001b[0m\u001b[0mstart_of_exp\u001b[0m\u001b[1;33m)\u001b[0m\u001b[1;33m)\u001b[0m\u001b[1;33m\u001b[0m\u001b[0m\n",
      "\u001b[1;31mNameError\u001b[0m: name 'qi_oil' is not defined"
     ]
    }
   ],
   "source": [
    "interact_oil = interact(plot_oil, b_value= (0, 1, 0.01), initial_decline_rate= (0, 1, 0.01), exp_yes_no = False, start_of_exp= (1, well_data.time.max(), 1), exp_decline_rate=(0, 0.02, 0.001))"
   ]
  },
  {
   "cell_type": "code",
   "execution_count": 18,
   "metadata": {},
   "outputs": [
    {
     "name": "stdout",
     "output_type": "stream",
     "text": [
      "    production date  oil_bbl  gas_mcf  time\n",
      "0        1959-05-31   3533.0      0.0     0\n",
      "1        1959-06-30   4763.0      0.0     1\n",
      "2        1959-07-31   4475.0   1570.0     2\n",
      "3        1959-08-31   2620.0    917.0     3\n",
      "4        1959-09-30   3531.0   1236.0     4\n",
      "5        1959-10-31   3196.0   1119.0     5\n",
      "6        1959-11-30   3163.0   1107.0     6\n",
      "7        1959-12-31   1997.0    700.0     7\n",
      "8        1960-01-31   2729.0      0.0     8\n",
      "9        1960-02-29   2680.0      0.0     9\n",
      "10       1960-03-31   1300.0      0.0    10\n",
      "11       1960-04-30   2187.0      0.0    11\n",
      "12       1960-05-31      0.0      0.0    12\n",
      "13       1960-06-30   2599.0      0.0    13\n",
      "14       1960-07-31   1686.0      0.0    14\n",
      "15       1960-08-31   2329.0      0.0    15\n",
      "16       1960-09-30   1831.0      0.0    16\n",
      "17       1960-10-31   1835.0      0.0    17\n",
      "18       1960-11-30   2176.0      0.0    18\n",
      "19       1960-12-31   1870.0      0.0    19\n",
      "20       1961-01-31   1690.0      0.0    20\n",
      "21       1961-02-28   1797.0      0.0    21\n",
      "22       1961-03-31   1319.0      0.0    22\n",
      "23       1961-04-30   1768.0      0.0    23\n",
      "24       1961-05-31   1637.0      0.0    24\n",
      "25       1961-06-30   1100.0      0.0    25\n",
      "26       1961-07-31   1629.0      0.0    26\n",
      "27       1961-08-31   1466.0      0.0    27\n",
      "28       1961-09-30   1454.0      0.0    28\n",
      "29       1961-10-31   1116.0      0.0    29\n",
      "..              ...      ...      ...   ...\n",
      "674      2015-08-31    656.0  22080.0   674\n",
      "675      2015-09-30    556.0  23009.0   675\n",
      "676      2015-10-31    583.0  15363.0   676\n",
      "677      2015-11-30    604.0  14970.0   677\n",
      "678      2015-12-31    592.0  15933.0   678\n",
      "679      2016-01-31    538.0  13948.0   679\n",
      "680      2016-02-29    270.0   7295.0   680\n",
      "681      2016-03-31    122.0   5595.0   681\n",
      "682      2016-04-30    532.0  14092.0   682\n",
      "683      2016-05-31    316.0  10564.0   683\n",
      "684      2016-06-30    224.0   8706.0   684\n",
      "685      2016-07-31    258.0   8467.0   685\n",
      "686      2016-08-31    321.0  10616.0   686\n",
      "687      2016-09-30    366.0  12605.0   687\n",
      "688      2016-10-31    389.0  13877.0   688\n",
      "689      2016-11-30    439.0   9378.0   689\n",
      "690      2016-12-31    390.0  11393.0   690\n",
      "691      2017-01-31    739.0   7596.0   691\n",
      "692      2017-02-28   1099.0  22620.0   692\n",
      "693      2017-03-31    809.0  24698.0   693\n",
      "694      2017-04-30    537.0  16356.0   694\n",
      "695      2017-05-31    726.0  24802.0   695\n",
      "696      2017-06-30    684.0  14559.0   696\n",
      "697      2017-07-31    733.0  13470.0   697\n",
      "698      2017-08-31    693.0  14300.0   698\n",
      "699      2017-09-30    682.0   7492.0   699\n",
      "700      2017-10-31    618.0  13054.0   700\n",
      "701      2017-11-30    720.0  13567.0   701\n",
      "702      2017-12-31    608.0  13290.0   702\n",
      "703      2018-01-31    501.0  11915.0   703\n",
      "\n",
      "[704 rows x 4 columns]\n"
     ]
    }
   ],
   "source": [
    "print(well_data)"
   ]
  },
  {
   "cell_type": "markdown",
   "metadata": {},
   "source": [
    "## To-do\n",
    "\n",
    "* add multiline segment functionality\n",
    "* add optimized solution by minimizing the error"
   ]
  },
  {
   "cell_type": "code",
   "execution_count": null,
   "metadata": {},
   "outputs": [],
   "source": []
  }
 ],
 "metadata": {
  "kernelspec": {
   "display_name": "Python 3",
   "language": "python",
   "name": "python3"
  },
  "language_info": {
   "codemirror_mode": {
    "name": "ipython",
    "version": 3
   },
   "file_extension": ".py",
   "mimetype": "text/x-python",
   "name": "python",
   "nbconvert_exporter": "python",
   "pygments_lexer": "ipython3",
   "version": "3.6.5"
  }
 },
 "nbformat": 4,
 "nbformat_minor": 2
}
